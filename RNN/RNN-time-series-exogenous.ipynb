{
 "cells": [
  {
   "cell_type": "code",
   "execution_count": 1,
   "metadata": {
    "scrolled": true
   },
   "outputs": [
    {
     "name": "stderr",
     "output_type": "stream",
     "text": [
      "/home/derek/anaconda3/envs/timeseries/lib/python3.6/site-packages/statsmodels/compat/pandas.py:56: FutureWarning: The pandas.core.datetools module is deprecated and will be removed in a future version. Please use the pandas.tseries module instead.\n",
      "  from pandas.core import datetools\n"
     ]
    }
   ],
   "source": [
    "import pandas as pd\n",
    "import random\n",
    "import matplotlib.pyplot as plt\n",
    "import matplotlib.dates as mdates\n",
    "from sklearn.preprocessing import MinMaxScaler\n",
    "from sklearn.metrics import mean_squared_error\n",
    "from statsmodels.graphics.tsaplots import plot_acf\n",
    "import numpy as np\n",
    "import torch\n",
    "import torch.nn as nn\n",
    "from torch.utils.data import Dataset, DataLoader\n",
    "from torch.autograd import Variable\n",
    "import pickle as pkl\n",
    "\n",
    "torch.manual_seed(100)\n",
    "torch.cuda.manual_seed(100)\n",
    "np.random.seed(100)\n",
    "random.seed(100)"
   ]
  },
  {
   "cell_type": "markdown",
   "metadata": {},
   "source": [
    "# Initial analysis"
   ]
  },
  {
   "cell_type": "code",
   "execution_count": 2,
   "metadata": {},
   "outputs": [],
   "source": [
    "if torch.cuda.is_available():\n",
    "    rank = 0\n",
    "    torch.cuda.set_device(rank)\n",
    "    current_device = torch.device(\"cuda\", rank)\n",
    "else:\n",
    "    current_device = torch.device(\"cpu\")\n"
   ]
  },
  {
   "cell_type": "code",
   "execution_count": 3,
   "metadata": {},
   "outputs": [
    {
     "data": {
      "text/html": [
       "<div>\n",
       "<style>\n",
       "    .dataframe thead tr:only-child th {\n",
       "        text-align: right;\n",
       "    }\n",
       "\n",
       "    .dataframe thead th {\n",
       "        text-align: left;\n",
       "    }\n",
       "\n",
       "    .dataframe tbody tr th {\n",
       "        vertical-align: top;\n",
       "    }\n",
       "</style>\n",
       "<table border=\"1\" class=\"dataframe\">\n",
       "  <thead>\n",
       "    <tr style=\"text-align: right;\">\n",
       "      <th></th>\n",
       "      <th>Id</th>\n",
       "      <th>Store</th>\n",
       "      <th>DayOfWeek</th>\n",
       "      <th>Date</th>\n",
       "      <th>Open</th>\n",
       "      <th>Promo</th>\n",
       "      <th>StateHoliday</th>\n",
       "      <th>SchoolHoliday</th>\n",
       "    </tr>\n",
       "  </thead>\n",
       "  <tbody>\n",
       "    <tr>\n",
       "      <th>0</th>\n",
       "      <td>1</td>\n",
       "      <td>1</td>\n",
       "      <td>4</td>\n",
       "      <td>2015-09-17</td>\n",
       "      <td>1.0</td>\n",
       "      <td>1</td>\n",
       "      <td>0</td>\n",
       "      <td>0</td>\n",
       "    </tr>\n",
       "    <tr>\n",
       "      <th>1</th>\n",
       "      <td>2</td>\n",
       "      <td>3</td>\n",
       "      <td>4</td>\n",
       "      <td>2015-09-17</td>\n",
       "      <td>1.0</td>\n",
       "      <td>1</td>\n",
       "      <td>0</td>\n",
       "      <td>0</td>\n",
       "    </tr>\n",
       "    <tr>\n",
       "      <th>2</th>\n",
       "      <td>3</td>\n",
       "      <td>7</td>\n",
       "      <td>4</td>\n",
       "      <td>2015-09-17</td>\n",
       "      <td>1.0</td>\n",
       "      <td>1</td>\n",
       "      <td>0</td>\n",
       "      <td>0</td>\n",
       "    </tr>\n",
       "    <tr>\n",
       "      <th>3</th>\n",
       "      <td>4</td>\n",
       "      <td>8</td>\n",
       "      <td>4</td>\n",
       "      <td>2015-09-17</td>\n",
       "      <td>1.0</td>\n",
       "      <td>1</td>\n",
       "      <td>0</td>\n",
       "      <td>0</td>\n",
       "    </tr>\n",
       "    <tr>\n",
       "      <th>4</th>\n",
       "      <td>5</td>\n",
       "      <td>9</td>\n",
       "      <td>4</td>\n",
       "      <td>2015-09-17</td>\n",
       "      <td>1.0</td>\n",
       "      <td>1</td>\n",
       "      <td>0</td>\n",
       "      <td>0</td>\n",
       "    </tr>\n",
       "  </tbody>\n",
       "</table>\n",
       "</div>"
      ],
      "text/plain": [
       "   Id  Store  DayOfWeek        Date  Open  Promo StateHoliday  SchoolHoliday\n",
       "0   1      1          4  2015-09-17   1.0      1            0              0\n",
       "1   2      3          4  2015-09-17   1.0      1            0              0\n",
       "2   3      7          4  2015-09-17   1.0      1            0              0\n",
       "3   4      8          4  2015-09-17   1.0      1            0              0\n",
       "4   5      9          4  2015-09-17   1.0      1            0              0"
      ]
     },
     "execution_count": 3,
     "metadata": {},
     "output_type": "execute_result"
    }
   ],
   "source": [
    "actual_test_data = pd.read_csv('test.csv')\n",
    "actual_test_data.head()"
   ]
  },
  {
   "cell_type": "code",
   "execution_count": 4,
   "metadata": {},
   "outputs": [],
   "source": [
    "VAL_DATE = '2015-05-08'\n",
    "TEST_DATE = '2015-06-20'"
   ]
  },
  {
   "cell_type": "code",
   "execution_count": 5,
   "metadata": {},
   "outputs": [],
   "source": [
    "data = pd.read_csv('train.csv', low_memory=False)"
   ]
  },
  {
   "cell_type": "code",
   "execution_count": 6,
   "metadata": {},
   "outputs": [],
   "source": [
    "store_data = pd.read_csv('store.csv')"
   ]
  },
  {
   "cell_type": "code",
   "execution_count": 7,
   "metadata": {},
   "outputs": [],
   "source": [
    "full_data = data.merge(store_data, on='Store')\n",
    "full_data = full_data.sort_values(by='Date')\n",
    "full_data['Date'] = pd.to_datetime(full_data.Date)"
   ]
  },
  {
   "cell_type": "code",
   "execution_count": 8,
   "metadata": {},
   "outputs": [
    {
     "data": {
      "text/html": [
       "<div>\n",
       "<style>\n",
       "    .dataframe thead tr:only-child th {\n",
       "        text-align: right;\n",
       "    }\n",
       "\n",
       "    .dataframe thead th {\n",
       "        text-align: left;\n",
       "    }\n",
       "\n",
       "    .dataframe tbody tr th {\n",
       "        vertical-align: top;\n",
       "    }\n",
       "</style>\n",
       "<table border=\"1\" class=\"dataframe\">\n",
       "  <thead>\n",
       "    <tr style=\"text-align: right;\">\n",
       "      <th></th>\n",
       "      <th>Store</th>\n",
       "      <th>DayOfWeek</th>\n",
       "      <th>Date</th>\n",
       "      <th>Sales</th>\n",
       "      <th>Customers</th>\n",
       "      <th>Open</th>\n",
       "      <th>Promo</th>\n",
       "      <th>StateHoliday</th>\n",
       "      <th>SchoolHoliday</th>\n",
       "      <th>StoreType</th>\n",
       "      <th>Assortment</th>\n",
       "      <th>CompetitionDistance</th>\n",
       "      <th>CompetitionOpenSinceMonth</th>\n",
       "      <th>CompetitionOpenSinceYear</th>\n",
       "      <th>Promo2</th>\n",
       "      <th>Promo2SinceWeek</th>\n",
       "      <th>Promo2SinceYear</th>\n",
       "      <th>PromoInterval</th>\n",
       "    </tr>\n",
       "  </thead>\n",
       "  <tbody>\n",
       "    <tr>\n",
       "      <th>1017208</th>\n",
       "      <td>1115</td>\n",
       "      <td>2</td>\n",
       "      <td>2013-01-01</td>\n",
       "      <td>0</td>\n",
       "      <td>0</td>\n",
       "      <td>0</td>\n",
       "      <td>0</td>\n",
       "      <td>a</td>\n",
       "      <td>1</td>\n",
       "      <td>d</td>\n",
       "      <td>c</td>\n",
       "      <td>5350.0</td>\n",
       "      <td>NaN</td>\n",
       "      <td>NaN</td>\n",
       "      <td>1</td>\n",
       "      <td>22.0</td>\n",
       "      <td>2012.0</td>\n",
       "      <td>Mar,Jun,Sept,Dec</td>\n",
       "    </tr>\n",
       "    <tr>\n",
       "      <th>679363</th>\n",
       "      <td>746</td>\n",
       "      <td>2</td>\n",
       "      <td>2013-01-01</td>\n",
       "      <td>0</td>\n",
       "      <td>0</td>\n",
       "      <td>0</td>\n",
       "      <td>0</td>\n",
       "      <td>a</td>\n",
       "      <td>1</td>\n",
       "      <td>d</td>\n",
       "      <td>c</td>\n",
       "      <td>4330.0</td>\n",
       "      <td>2.0</td>\n",
       "      <td>2011.0</td>\n",
       "      <td>1</td>\n",
       "      <td>35.0</td>\n",
       "      <td>2011.0</td>\n",
       "      <td>Mar,Jun,Sept,Dec</td>\n",
       "    </tr>\n",
       "    <tr>\n",
       "      <th>155193</th>\n",
       "      <td>171</td>\n",
       "      <td>2</td>\n",
       "      <td>2013-01-01</td>\n",
       "      <td>0</td>\n",
       "      <td>0</td>\n",
       "      <td>0</td>\n",
       "      <td>0</td>\n",
       "      <td>a</td>\n",
       "      <td>1</td>\n",
       "      <td>a</td>\n",
       "      <td>a</td>\n",
       "      <td>2640.0</td>\n",
       "      <td>NaN</td>\n",
       "      <td>NaN</td>\n",
       "      <td>0</td>\n",
       "      <td>NaN</td>\n",
       "      <td>NaN</td>\n",
       "      <td>NaN</td>\n",
       "    </tr>\n",
       "    <tr>\n",
       "      <th>632403</th>\n",
       "      <td>694</td>\n",
       "      <td>2</td>\n",
       "      <td>2013-01-01</td>\n",
       "      <td>0</td>\n",
       "      <td>0</td>\n",
       "      <td>0</td>\n",
       "      <td>0</td>\n",
       "      <td>a</td>\n",
       "      <td>1</td>\n",
       "      <td>a</td>\n",
       "      <td>c</td>\n",
       "      <td>460.0</td>\n",
       "      <td>11.0</td>\n",
       "      <td>2012.0</td>\n",
       "      <td>1</td>\n",
       "      <td>40.0</td>\n",
       "      <td>2014.0</td>\n",
       "      <td>Jan,Apr,Jul,Oct</td>\n",
       "    </tr>\n",
       "    <tr>\n",
       "      <th>361623</th>\n",
       "      <td>396</td>\n",
       "      <td>2</td>\n",
       "      <td>2013-01-01</td>\n",
       "      <td>0</td>\n",
       "      <td>0</td>\n",
       "      <td>0</td>\n",
       "      <td>0</td>\n",
       "      <td>a</td>\n",
       "      <td>1</td>\n",
       "      <td>a</td>\n",
       "      <td>c</td>\n",
       "      <td>23130.0</td>\n",
       "      <td>NaN</td>\n",
       "      <td>NaN</td>\n",
       "      <td>0</td>\n",
       "      <td>NaN</td>\n",
       "      <td>NaN</td>\n",
       "      <td>NaN</td>\n",
       "    </tr>\n",
       "  </tbody>\n",
       "</table>\n",
       "</div>"
      ],
      "text/plain": [
       "         Store  DayOfWeek       Date  Sales  Customers  Open  Promo  \\\n",
       "1017208   1115          2 2013-01-01      0          0     0      0   \n",
       "679363     746          2 2013-01-01      0          0     0      0   \n",
       "155193     171          2 2013-01-01      0          0     0      0   \n",
       "632403     694          2 2013-01-01      0          0     0      0   \n",
       "361623     396          2 2013-01-01      0          0     0      0   \n",
       "\n",
       "        StateHoliday  SchoolHoliday StoreType Assortment  CompetitionDistance  \\\n",
       "1017208            a              1         d          c               5350.0   \n",
       "679363             a              1         d          c               4330.0   \n",
       "155193             a              1         a          a               2640.0   \n",
       "632403             a              1         a          c                460.0   \n",
       "361623             a              1         a          c              23130.0   \n",
       "\n",
       "         CompetitionOpenSinceMonth  CompetitionOpenSinceYear  Promo2  \\\n",
       "1017208                        NaN                       NaN       1   \n",
       "679363                         2.0                    2011.0       1   \n",
       "155193                         NaN                       NaN       0   \n",
       "632403                        11.0                    2012.0       1   \n",
       "361623                         NaN                       NaN       0   \n",
       "\n",
       "         Promo2SinceWeek  Promo2SinceYear     PromoInterval  \n",
       "1017208             22.0           2012.0  Mar,Jun,Sept,Dec  \n",
       "679363              35.0           2011.0  Mar,Jun,Sept,Dec  \n",
       "155193               NaN              NaN               NaN  \n",
       "632403              40.0           2014.0   Jan,Apr,Jul,Oct  \n",
       "361623               NaN              NaN               NaN  "
      ]
     },
     "execution_count": 8,
     "metadata": {},
     "output_type": "execute_result"
    }
   ],
   "source": [
    "full_data.head()"
   ]
  },
  {
   "cell_type": "code",
   "execution_count": 9,
   "metadata": {},
   "outputs": [
    {
     "name": "stdout",
     "output_type": "stream",
     "text": [
      "First 3 stores of type a  [2 3 5]\n",
      "First 3 stores of type b  [ 85 259 262]\n",
      "First 3 stores of type c  [ 1  4 21]\n",
      "First 3 stores of type d  [13 15 18]\n"
     ]
    }
   ],
   "source": [
    "print('First 3 stores of type a ', np.unique(full_data.loc[full_data.StoreType == 'a','Store'])[:3])\n",
    "print('First 3 stores of type b ', np.unique(full_data.loc[full_data.StoreType == 'b','Store'])[:3])\n",
    "print('First 3 stores of type c ', np.unique(full_data.loc[full_data.StoreType == 'c','Store'])[:3])\n",
    "print('First 3 stores of type d ', np.unique(full_data.loc[full_data.StoreType == 'd','Store'])[:3])"
   ]
  },
  {
   "cell_type": "code",
   "execution_count": 10,
   "metadata": {},
   "outputs": [],
   "source": [
    "stores = [1,2,3,4,5,13,15,18,21,85,259,262]"
   ]
  },
  {
   "cell_type": "code",
   "execution_count": 11,
   "metadata": {},
   "outputs": [],
   "source": [
    "dummies = full_data['StateHoliday'].str.get_dummies(\" \")\n",
    "dummies.columns = [0, 'StateHoliday_a','StateHoliday_b','StateHoliday_c']\n",
    "full_data[['StateHoliday_a','StateHoliday_b','StateHoliday_c']] = dummies[['StateHoliday_a','StateHoliday_b','StateHoliday_c']]\n",
    "\n",
    "dummies = full_data['Assortment'].str.get_dummies(\" \")\n",
    "dummies.columns = ['Assortment_a','Assortment_b','Assortment_c']\n",
    "full_data[['Assortment_a','Assortment_b','Assortment_c']] = dummies[['Assortment_a','Assortment_b','Assortment_c']]\n",
    "\n",
    "full_data['Year'] = full_data.Date.dt.year\n",
    "full_data['Month'] = full_data.Date.dt.month\n",
    "full_data['Day'] = full_data.Date.dt.day\n",
    "full_data['DayOfWeek'] = full_data.Date.dt.dayofweek\n",
    "full_data['WeekOfYear'] = full_data.Date.dt.weekofyear"
   ]
  },
  {
   "cell_type": "code",
   "execution_count": 12,
   "metadata": {},
   "outputs": [],
   "source": [
    "def replace_distance(row, max_distance):\n",
    "    if np.isnan(row['CompetitionDistance']):\n",
    "        return 2 * max_distance\n",
    "    else:\n",
    "        return row['CompetitionDistance']"
   ]
  },
  {
   "cell_type": "code",
   "execution_count": 13,
   "metadata": {},
   "outputs": [],
   "source": [
    "max_distance = max(full_data['CompetitionDistance'])"
   ]
  },
  {
   "cell_type": "code",
   "execution_count": 14,
   "metadata": {},
   "outputs": [],
   "source": [
    "full_data['CompetitionDistance'] = full_data.apply(lambda row: replace_distance(row, max_distance), axis=1)"
   ]
  },
  {
   "cell_type": "code",
   "execution_count": 15,
   "metadata": {},
   "outputs": [],
   "source": [
    "full_data = full_data.loc[full_data.Open == 1]\n",
    "full_data = full_data.loc[full_data.Sales > 0].sort_values(by='Date')\n",
    "full_train = full_data.loc[full_data.Date < VAL_DATE]\n",
    "full_val = full_data.loc[(full_data.Date >= VAL_DATE) & (full_data.Date < TEST_DATE)]\n",
    "full_test = full_data.loc[full_data.Date > TEST_DATE]"
   ]
  },
  {
   "cell_type": "code",
   "execution_count": 16,
   "metadata": {},
   "outputs": [
    {
     "name": "stderr",
     "output_type": "stream",
     "text": [
      "/home/derek/anaconda3/envs/timeseries/lib/python3.6/site-packages/ipykernel_launcher.py:5: SettingWithCopyWarning: \n",
      "A value is trying to be set on a copy of a slice from a DataFrame.\n",
      "Try using .loc[row_indexer,col_indexer] = value instead\n",
      "\n",
      "See the caveats in the documentation: http://pandas.pydata.org/pandas-docs/stable/indexing.html#indexing-view-versus-copy\n",
      "  \"\"\"\n",
      "/home/derek/anaconda3/envs/timeseries/lib/python3.6/site-packages/ipykernel_launcher.py:6: SettingWithCopyWarning: \n",
      "A value is trying to be set on a copy of a slice from a DataFrame.\n",
      "Try using .loc[row_indexer,col_indexer] = value instead\n",
      "\n",
      "See the caveats in the documentation: http://pandas.pydata.org/pandas-docs/stable/indexing.html#indexing-view-versus-copy\n",
      "  \n",
      "/home/derek/anaconda3/envs/timeseries/lib/python3.6/site-packages/ipykernel_launcher.py:7: SettingWithCopyWarning: \n",
      "A value is trying to be set on a copy of a slice from a DataFrame.\n",
      "Try using .loc[row_indexer,col_indexer] = value instead\n",
      "\n",
      "See the caveats in the documentation: http://pandas.pydata.org/pandas-docs/stable/indexing.html#indexing-view-versus-copy\n",
      "  import sys\n",
      "/home/derek/anaconda3/envs/timeseries/lib/python3.6/site-packages/ipykernel_launcher.py:5: SettingWithCopyWarning: \n",
      "A value is trying to be set on a copy of a slice from a DataFrame.\n",
      "Try using .loc[row_indexer,col_indexer] = value instead\n",
      "\n",
      "See the caveats in the documentation: http://pandas.pydata.org/pandas-docs/stable/indexing.html#indexing-view-versus-copy\n",
      "  \"\"\"\n",
      "/home/derek/anaconda3/envs/timeseries/lib/python3.6/site-packages/ipykernel_launcher.py:6: SettingWithCopyWarning: \n",
      "A value is trying to be set on a copy of a slice from a DataFrame.\n",
      "Try using .loc[row_indexer,col_indexer] = value instead\n",
      "\n",
      "See the caveats in the documentation: http://pandas.pydata.org/pandas-docs/stable/indexing.html#indexing-view-versus-copy\n",
      "  \n",
      "/home/derek/anaconda3/envs/timeseries/lib/python3.6/site-packages/ipykernel_launcher.py:7: SettingWithCopyWarning: \n",
      "A value is trying to be set on a copy of a slice from a DataFrame.\n",
      "Try using .loc[row_indexer,col_indexer] = value instead\n",
      "\n",
      "See the caveats in the documentation: http://pandas.pydata.org/pandas-docs/stable/indexing.html#indexing-view-versus-copy\n",
      "  import sys\n",
      "/home/derek/anaconda3/envs/timeseries/lib/python3.6/site-packages/ipykernel_launcher.py:5: SettingWithCopyWarning: \n",
      "A value is trying to be set on a copy of a slice from a DataFrame.\n",
      "Try using .loc[row_indexer,col_indexer] = value instead\n",
      "\n",
      "See the caveats in the documentation: http://pandas.pydata.org/pandas-docs/stable/indexing.html#indexing-view-versus-copy\n",
      "  \"\"\"\n",
      "/home/derek/anaconda3/envs/timeseries/lib/python3.6/site-packages/ipykernel_launcher.py:6: SettingWithCopyWarning: \n",
      "A value is trying to be set on a copy of a slice from a DataFrame.\n",
      "Try using .loc[row_indexer,col_indexer] = value instead\n",
      "\n",
      "See the caveats in the documentation: http://pandas.pydata.org/pandas-docs/stable/indexing.html#indexing-view-versus-copy\n",
      "  \n",
      "/home/derek/anaconda3/envs/timeseries/lib/python3.6/site-packages/ipykernel_launcher.py:7: SettingWithCopyWarning: \n",
      "A value is trying to be set on a copy of a slice from a DataFrame.\n",
      "Try using .loc[row_indexer,col_indexer] = value instead\n",
      "\n",
      "See the caveats in the documentation: http://pandas.pydata.org/pandas-docs/stable/indexing.html#indexing-view-versus-copy\n",
      "  import sys\n",
      "/home/derek/anaconda3/envs/timeseries/lib/python3.6/site-packages/ipykernel_launcher.py:5: SettingWithCopyWarning: \n",
      "A value is trying to be set on a copy of a slice from a DataFrame.\n",
      "Try using .loc[row_indexer,col_indexer] = value instead\n",
      "\n",
      "See the caveats in the documentation: http://pandas.pydata.org/pandas-docs/stable/indexing.html#indexing-view-versus-copy\n",
      "  \"\"\"\n",
      "/home/derek/anaconda3/envs/timeseries/lib/python3.6/site-packages/ipykernel_launcher.py:6: SettingWithCopyWarning: \n",
      "A value is trying to be set on a copy of a slice from a DataFrame.\n",
      "Try using .loc[row_indexer,col_indexer] = value instead\n",
      "\n",
      "See the caveats in the documentation: http://pandas.pydata.org/pandas-docs/stable/indexing.html#indexing-view-versus-copy\n",
      "  \n",
      "/home/derek/anaconda3/envs/timeseries/lib/python3.6/site-packages/ipykernel_launcher.py:7: SettingWithCopyWarning: \n",
      "A value is trying to be set on a copy of a slice from a DataFrame.\n",
      "Try using .loc[row_indexer,col_indexer] = value instead\n",
      "\n",
      "See the caveats in the documentation: http://pandas.pydata.org/pandas-docs/stable/indexing.html#indexing-view-versus-copy\n",
      "  import sys\n",
      "/home/derek/anaconda3/envs/timeseries/lib/python3.6/site-packages/ipykernel_launcher.py:5: SettingWithCopyWarning: \n",
      "A value is trying to be set on a copy of a slice from a DataFrame.\n",
      "Try using .loc[row_indexer,col_indexer] = value instead\n",
      "\n",
      "See the caveats in the documentation: http://pandas.pydata.org/pandas-docs/stable/indexing.html#indexing-view-versus-copy\n",
      "  \"\"\"\n",
      "/home/derek/anaconda3/envs/timeseries/lib/python3.6/site-packages/ipykernel_launcher.py:6: SettingWithCopyWarning: \n",
      "A value is trying to be set on a copy of a slice from a DataFrame.\n",
      "Try using .loc[row_indexer,col_indexer] = value instead\n",
      "\n",
      "See the caveats in the documentation: http://pandas.pydata.org/pandas-docs/stable/indexing.html#indexing-view-versus-copy\n",
      "  \n",
      "/home/derek/anaconda3/envs/timeseries/lib/python3.6/site-packages/ipykernel_launcher.py:7: SettingWithCopyWarning: \n",
      "A value is trying to be set on a copy of a slice from a DataFrame.\n",
      "Try using .loc[row_indexer,col_indexer] = value instead\n",
      "\n",
      "See the caveats in the documentation: http://pandas.pydata.org/pandas-docs/stable/indexing.html#indexing-view-versus-copy\n",
      "  import sys\n",
      "/home/derek/anaconda3/envs/timeseries/lib/python3.6/site-packages/ipykernel_launcher.py:5: SettingWithCopyWarning: \n",
      "A value is trying to be set on a copy of a slice from a DataFrame.\n",
      "Try using .loc[row_indexer,col_indexer] = value instead\n",
      "\n",
      "See the caveats in the documentation: http://pandas.pydata.org/pandas-docs/stable/indexing.html#indexing-view-versus-copy\n",
      "  \"\"\"\n",
      "/home/derek/anaconda3/envs/timeseries/lib/python3.6/site-packages/ipykernel_launcher.py:6: SettingWithCopyWarning: \n",
      "A value is trying to be set on a copy of a slice from a DataFrame.\n",
      "Try using .loc[row_indexer,col_indexer] = value instead\n",
      "\n",
      "See the caveats in the documentation: http://pandas.pydata.org/pandas-docs/stable/indexing.html#indexing-view-versus-copy\n",
      "  \n",
      "/home/derek/anaconda3/envs/timeseries/lib/python3.6/site-packages/ipykernel_launcher.py:7: SettingWithCopyWarning: \n",
      "A value is trying to be set on a copy of a slice from a DataFrame.\n",
      "Try using .loc[row_indexer,col_indexer] = value instead\n",
      "\n",
      "See the caveats in the documentation: http://pandas.pydata.org/pandas-docs/stable/indexing.html#indexing-view-versus-copy\n",
      "  import sys\n",
      "/home/derek/anaconda3/envs/timeseries/lib/python3.6/site-packages/ipykernel_launcher.py:5: SettingWithCopyWarning: \n",
      "A value is trying to be set on a copy of a slice from a DataFrame.\n",
      "Try using .loc[row_indexer,col_indexer] = value instead\n",
      "\n",
      "See the caveats in the documentation: http://pandas.pydata.org/pandas-docs/stable/indexing.html#indexing-view-versus-copy\n",
      "  \"\"\"\n",
      "/home/derek/anaconda3/envs/timeseries/lib/python3.6/site-packages/ipykernel_launcher.py:6: SettingWithCopyWarning: \n",
      "A value is trying to be set on a copy of a slice from a DataFrame.\n",
      "Try using .loc[row_indexer,col_indexer] = value instead\n",
      "\n",
      "See the caveats in the documentation: http://pandas.pydata.org/pandas-docs/stable/indexing.html#indexing-view-versus-copy\n",
      "  \n",
      "/home/derek/anaconda3/envs/timeseries/lib/python3.6/site-packages/ipykernel_launcher.py:7: SettingWithCopyWarning: \n",
      "A value is trying to be set on a copy of a slice from a DataFrame.\n",
      "Try using .loc[row_indexer,col_indexer] = value instead\n",
      "\n",
      "See the caveats in the documentation: http://pandas.pydata.org/pandas-docs/stable/indexing.html#indexing-view-versus-copy\n",
      "  import sys\n",
      "/home/derek/anaconda3/envs/timeseries/lib/python3.6/site-packages/ipykernel_launcher.py:8: SettingWithCopyWarning: \n",
      "A value is trying to be set on a copy of a slice from a DataFrame.\n",
      "Try using .loc[row_indexer,col_indexer] = value instead\n",
      "\n",
      "See the caveats in the documentation: http://pandas.pydata.org/pandas-docs/stable/indexing.html#indexing-view-versus-copy\n",
      "  \n",
      "/home/derek/anaconda3/envs/timeseries/lib/python3.6/site-packages/ipykernel_launcher.py:9: SettingWithCopyWarning: \n",
      "A value is trying to be set on a copy of a slice from a DataFrame.\n",
      "Try using .loc[row_indexer,col_indexer] = value instead\n",
      "\n",
      "See the caveats in the documentation: http://pandas.pydata.org/pandas-docs/stable/indexing.html#indexing-view-versus-copy\n",
      "  if __name__ == '__main__':\n",
      "/home/derek/anaconda3/envs/timeseries/lib/python3.6/site-packages/ipykernel_launcher.py:10: SettingWithCopyWarning: \n",
      "A value is trying to be set on a copy of a slice from a DataFrame.\n",
      "Try using .loc[row_indexer,col_indexer] = value instead\n",
      "\n",
      "See the caveats in the documentation: http://pandas.pydata.org/pandas-docs/stable/indexing.html#indexing-view-versus-copy\n",
      "  # Remove the CWD from sys.path while we load stuff.\n",
      "/home/derek/anaconda3/envs/timeseries/lib/python3.6/site-packages/ipykernel_launcher.py:11: SettingWithCopyWarning: \n",
      "A value is trying to be set on a copy of a slice from a DataFrame.\n",
      "Try using .loc[row_indexer,col_indexer] = value instead\n",
      "\n",
      "See the caveats in the documentation: http://pandas.pydata.org/pandas-docs/stable/indexing.html#indexing-view-versus-copy\n",
      "  # This is added back by InteractiveShellApp.init_path()\n",
      "/home/derek/anaconda3/envs/timeseries/lib/python3.6/site-packages/ipykernel_launcher.py:12: SettingWithCopyWarning: \n",
      "A value is trying to be set on a copy of a slice from a DataFrame.\n",
      "Try using .loc[row_indexer,col_indexer] = value instead\n",
      "\n",
      "See the caveats in the documentation: http://pandas.pydata.org/pandas-docs/stable/indexing.html#indexing-view-versus-copy\n",
      "  if sys.path[0] == '':\n",
      "/home/derek/anaconda3/envs/timeseries/lib/python3.6/site-packages/ipykernel_launcher.py:13: SettingWithCopyWarning: \n",
      "A value is trying to be set on a copy of a slice from a DataFrame.\n",
      "Try using .loc[row_indexer,col_indexer] = value instead\n",
      "\n",
      "See the caveats in the documentation: http://pandas.pydata.org/pandas-docs/stable/indexing.html#indexing-view-versus-copy\n",
      "  del sys.path[0]\n"
     ]
    }
   ],
   "source": [
    "num_variables = 7\n",
    "columns = ['Sales', 'CompetitionDistance','Year','Month','Day','DayOfWeek','WeekOfYear']\n",
    "scaler = MinMaxScaler().fit(full_train[columns].values.reshape(-1,num_variables))\n",
    "for col_num in range(len(columns)):\n",
    "    full_train['Norm'+columns[col_num]] = scaler.transform(full_train[columns])[:,col_num].reshape(-1,1)\n",
    "    full_val['Norm'+columns[col_num]] = scaler.transform(full_val[columns])[:,col_num].reshape(-1,1)\n",
    "    full_test['Norm'+columns[col_num]] = scaler.transform(full_test[columns])[:,col_num].reshape(-1,1)\n",
    "full_train['NormPromo'] = full_train['Promo']\n",
    "full_train['NormSchoolHoliday'] = full_train['SchoolHoliday']\n",
    "full_val['NormPromo'] = full_val['Promo']\n",
    "full_val['NormSchoolHoliday'] = full_val['SchoolHoliday']\n",
    "full_test['NormPromo'] = full_test['Promo']\n",
    "full_test['NormSchoolHoliday'] = full_test['SchoolHoliday']"
   ]
  },
  {
   "cell_type": "code",
   "execution_count": 17,
   "metadata": {},
   "outputs": [
    {
     "data": {
      "text/plain": [
       "[<matplotlib.lines.Line2D at 0x7f6e451cbb38>]"
      ]
     },
     "execution_count": 17,
     "metadata": {},
     "output_type": "execute_result"
    },
    {
     "data": {
      "image/png": "[encoded data removed]",
      "text/plain": [
       "<Figure size 432x288 with 1 Axes>"
      ]
     },
     "metadata": {
      "needs_background": "light"
     },
     "output_type": "display_data"
    }
   ],
   "source": [
    "plt.plot(full_train.loc[full_train.Store == 1, 'Date'],full_train.loc[full_train.Store == 1,'Sales'])"
   ]
  },
  {
   "cell_type": "markdown",
   "metadata": {},
   "source": [
    "## Data processing"
   ]
  },
  {
   "cell_type": "code",
   "execution_count": 18,
   "metadata": {},
   "outputs": [],
   "source": [
    "train_window = 12"
   ]
  },
  {
   "cell_type": "code",
   "execution_count": 19,
   "metadata": {},
   "outputs": [],
   "source": [
    "def create_inout_sequences(input_data, tw):\n",
    "    inout_seq = []\n",
    "    L = len(input_data)\n",
    "    for i in range(L-tw):\n",
    "        train_seq = input_data[i:i+tw+1]\n",
    "        inout_seq.append(train_seq)\n",
    "    return inout_seq"
   ]
  },
  {
   "cell_type": "code",
   "execution_count": 20,
   "metadata": {},
   "outputs": [],
   "source": [
    "stores = list(range(1,max(full_train.Store)))\n",
    "norm_columns = ['NormSales','NormSchoolHoliday','NormPromo']\n",
    "num_variables = 3"
   ]
  },
  {
   "cell_type": "code",
   "execution_count": 21,
   "metadata": {},
   "outputs": [],
   "source": [
    "train_inout_seq = []\n",
    "for store in stores:\n",
    "    this_store = full_train.loc[full_train.Store == store].sort_values(by='Date')\n",
    "    this_store_sales = this_store[norm_columns].values.astype(float)\n",
    "    inout_seq = create_inout_sequences(this_store_sales,train_window)\n",
    "    train_inout_seq += inout_seq"
   ]
  },
  {
   "cell_type": "code",
   "execution_count": 22,
   "metadata": {},
   "outputs": [],
   "source": [
    "val_inout_seq = []\n",
    "for store in stores:\n",
    "    this_store = full_val.loc[full_val.Store == store].sort_values(by='Date')\n",
    "    this_store_sales = this_store[norm_columns].values.astype(float)\n",
    "    inout_seq = create_inout_sequences(this_store_sales,train_window)\n",
    "    val_inout_seq += inout_seq"
   ]
  },
  {
   "cell_type": "code",
   "execution_count": 23,
   "metadata": {},
   "outputs": [],
   "source": [
    "class SeqDataset(Dataset):\n",
    "    def __init__(self, inout_seq):\n",
    "        super().__init__()\n",
    "\n",
    "        # for each sample: [:-1] is input, [-1] is target\n",
    "        self.sequences = [torch.FloatTensor(i) for i in inout_seq]\n",
    "    \n",
    "    def __getitem__(self, i):\n",
    "        sample = self.sequences[i]\n",
    "        return sample\n",
    "\n",
    "    def __len__(self):\n",
    "        return len(self.sequences)\n",
    "    \n",
    "def batchify(list_minibatch,num_variables=num_variables):\n",
    "    inp_list = [i[:-1].view(-1,num_variables) for i in list_minibatch]\n",
    "    tar_list = [i[-1,0] for i in list_minibatch]\n",
    "\n",
    "    inp_tensor = torch.stack(inp_list, dim=1)\n",
    "    tar_tensor = torch.stack(tar_list, dim=0).view(-1)\n",
    "\n",
    "    return inp_tensor, tar_tensor"
   ]
  },
  {
   "cell_type": "code",
   "execution_count": 24,
   "metadata": {},
   "outputs": [],
   "source": [
    "batch_size = 1\n",
    "train_dataset = SeqDataset(train_inout_seq)\n",
    "train_data = DataLoader(train_dataset, batch_size=batch_size, shuffle=True, collate_fn=batchify, drop_last=False)\n",
    "\n",
    "val_dataset = SeqDataset(val_inout_seq)\n",
    "val_data = DataLoader(val_dataset, batch_size=batch_size, shuffle=False, collate_fn = batchify, drop_last=False)"
   ]
  },
  {
   "cell_type": "markdown",
   "metadata": {},
   "source": [
    "## Models"
   ]
  },
  {
   "cell_type": "code",
   "execution_count": 25,
   "metadata": {},
   "outputs": [],
   "source": [
    "class RNN(nn.Module):\n",
    "    def __init__(self, input_size=1, hidden_layers = 2, hidden_layer_size=64, dropout=0.2, output_size=1, batch_size=batch_size):\n",
    "        super().__init__()\n",
    "        self.hidden_layers = hidden_layers\n",
    "        self.input_size = input_size\n",
    "        self.output_size = output_size\n",
    "        self.batch_size = batch_size\n",
    "        self.hidden_layer_size = hidden_layer_size\n",
    "        \n",
    "        self.rnn = nn.RNN(input_size, hidden_layer_size, self.hidden_layers, dropout=dropout)\n",
    "        self.linear = nn.Linear(hidden_layer_size, output_size)\n",
    "\n",
    "    def forward(self, input_seq):\n",
    "        hidden = self.init_hidden()\n",
    "        rnn_out, _ = self.rnn(input_seq, hidden)\n",
    "        predictions = self.linear(rnn_out[-1].view(self.batch_size,-1))\n",
    "        return predictions.view(-1)\n",
    "    \n",
    "    def init_hidden(self):\n",
    "        h0 = Variable(torch.randn(self.hidden_layers, self.batch_size, self.hidden_layer_size) * 0.1)\n",
    "        return h0"
   ]
  },
  {
   "cell_type": "code",
   "execution_count": 26,
   "metadata": {},
   "outputs": [],
   "source": [
    "class LSTM(nn.Module):\n",
    "    def __init__(self, input_size=1, hidden_layers = 2, hidden_layer_size=64, dropout=0.2, output_size=1, batch_size=batch_size):\n",
    "        super().__init__()\n",
    "        self.hidden_layers = hidden_layers\n",
    "        self.input_size = input_size\n",
    "        self.output_size = output_size\n",
    "        self.batch_size = batch_size\n",
    "        self.hidden_layer_size = hidden_layer_size\n",
    "        \n",
    "        self.rnn = nn.LSTM(input_size, hidden_layer_size, self.hidden_layers, dropout=dropout)\n",
    "        self.linear = nn.Linear(hidden_layer_size, output_size)\n",
    "\n",
    "        self.hidden_cell = self.init_hidden()\n",
    "\n",
    "    def forward(self, input_seq):\n",
    "        hidden = self.init_hidden()\n",
    "        rnn_out, _ = self.rnn(input_seq, hidden)\n",
    "        predictions = self.linear(rnn_out[-1].view(self.batch_size,-1))\n",
    "        return predictions.view(-1)\n",
    "    \n",
    "    def init_hidden(self):\n",
    "        h0 = Variable(torch.randn(self.hidden_layers, self.batch_size, self.hidden_layer_size) * 0.1)\n",
    "        c0 = Variable(torch.randn(self.hidden_layers, self.batch_size, self.hidden_layer_size) * 0.1)\n",
    "        return h0, c0"
   ]
  },
  {
   "cell_type": "code",
   "execution_count": 27,
   "metadata": {},
   "outputs": [],
   "source": [
    "def evaluate(model, val_data, loss_function, scaler=None, model_type = 'rnn'):\n",
    "    model.eval()\n",
    "    val_cache = []\n",
    "    for i, batch in enumerate(val_data):\n",
    "        with torch.no_grad():\n",
    "            seq, labels = batch\n",
    "            seq = seq.to(current_device)\n",
    "            labels = labels.to(current_device)\n",
    "\n",
    "            y_pred = model(seq)\n",
    "\n",
    "            single_loss = loss_function(y_pred, labels)\n",
    "            val_cache.append(single_loss.item())\n",
    "    avg_val = np.mean(val_cache)\n",
    "    return avg_val"
   ]
  },
  {
   "cell_type": "code",
   "execution_count": 28,
   "metadata": {},
   "outputs": [],
   "source": [
    "def train(model, train_data, val_data, learning_rate = 0.001, epochs = 2, train_steps = 1600, train_log_steps = 200, val_log_steps = 800, model_type = 'rnn', scaler = None):\n",
    "    loss_function = nn.MSELoss()\n",
    "    optimizer = torch.optim.Adam(model.parameters(), lr=learning_rate)\n",
    "    \n",
    "    avg_train_cache = []\n",
    "    avg_val_cache = []\n",
    "    for epoch in range(epochs):\n",
    "        model.train()\n",
    "        train_cache = []\n",
    "        for i, batch in enumerate(train_data):\n",
    "            if i < train_steps:\n",
    "                seq, labels = batch\n",
    "                seq = seq.to(current_device)\n",
    "                labels = labels.to(current_device)\n",
    "                optimizer.zero_grad()\n",
    "                \n",
    "                y_pred = model(seq)\n",
    "\n",
    "                single_loss = loss_function(y_pred, labels)\n",
    "                train_cache.append(single_loss.item())\n",
    "                single_loss.backward()\n",
    "                optimizer.step()\n",
    "\n",
    "                if i % train_log_steps == 0 and i >0:\n",
    "                    avg_train_loss = np.mean(train_cache)\n",
    "                    avg_train_cache.append(avg_train_loss)\n",
    "\n",
    "                    print(\"Training loss at iteration {}: {:.5}\".format(i,avg_train_loss))\n",
    "                    train_cache = []\n",
    "\n",
    "                if i % val_log_steps == 0 and i > 0:\n",
    "                    avg_val = evaluate(model, val_data, loss_function, scaler, model_type = model_type)\n",
    "                    avg_val_cache.append(avg_val)\n",
    "                    print(\"==========Val loss at iteration {}: {:.7}\".format(i,avg_val))\n",
    "                    model.train()\n",
    "\n",
    "        if len(avg_train_cache) > 0:\n",
    "            print(f'epoch: {epoch:3} loss: {avg_train_cache[-1]:10.8f}')\n",
    "    if len(avg_train_cache) > 0:\n",
    "        print(f'epoch: {epoch:3} loss: {avg_train_cache[-1]:10.10f}')\n",
    "    return model, avg_train_cache, avg_val_cache"
   ]
  },
  {
   "cell_type": "markdown",
   "metadata": {},
   "source": [
    "#### Example training and testing"
   ]
  },
  {
   "cell_type": "code",
   "execution_count": 29,
   "metadata": {},
   "outputs": [
    {
     "name": "stdout",
     "output_type": "stream",
     "text": [
      "Training loss at iteration 200: 0.0050742\n",
      "Training loss at iteration 400: 0.0069475\n",
      "Training loss at iteration 600: 0.0056318\n",
      "Training loss at iteration 800: 0.0032548\n",
      "==========Val loss at iteration 800: 0.003366113\n",
      "Training loss at iteration 1000: 0.0026231\n",
      "Training loss at iteration 1200: 0.0033095\n",
      "Training loss at iteration 1400: 0.0023742\n",
      "epoch:   0 loss: 0.00237418\n",
      "epoch:   0 loss: 0.0023741756\n"
     ]
    }
   ],
   "source": [
    "model = RNN(input_size = 3, hidden_layers = 2, hidden_layer_size=32, dropout=0.1, output_size = 1)\n",
    "model.to(current_device)\n",
    "model, avg_train_cache, avg_val_cache = train(model,train_data, val_data, learning_rate = 0.0005, epochs=1)"
   ]
  },
  {
   "cell_type": "code",
   "execution_count": 30,
   "metadata": {},
   "outputs": [
    {
     "data": {
      "text/plain": [
       "Text(0.5, 1.0, 'Learning curves')"
      ]
     },
     "execution_count": 30,
     "metadata": {},
     "output_type": "execute_result"
    },
    {
     "data": {
      "image/png": "[encoded data removed]",
      "text/plain": [
       "<Figure size 432x288 with 1 Axes>"
      ]
     },
     "metadata": {
      "needs_background": "light"
     },
     "output_type": "display_data"
    }
   ],
   "source": [
    "plt.plot(np.arange(len(avg_train_cache)) * 100, avg_train_cache,label='Avg Train')\n",
    "plt.plot(np.arange(len(avg_val_cache))*300, avg_val_cache,label='Val')\n",
    "plt.title('Learning curves')"
   ]
  },
  {
   "cell_type": "code",
   "execution_count": 31,
   "metadata": {},
   "outputs": [],
   "source": [
    "def rmse(actual, predicted):\n",
    "    return np.sqrt(mean_squared_error(actual, predicted))\n",
    "\n",
    "def rmspe(actual, predicted):\n",
    "    mask = actual != 0\n",
    "    return np.sqrt(np.nanmean(((actual[mask]-predicted[mask])/actual[mask])**2))"
   ]
  },
  {
   "cell_type": "code",
   "execution_count": 32,
   "metadata": {},
   "outputs": [],
   "source": [
    "def full_predict(model, future_pred_window, train_window, test_actuals, test_sales, test_otherinputs = None, num_variables=1,model_type = 'rnn'):\n",
    "    model.eval()\n",
    "\n",
    "    for i in range(future_pred_window):\n",
    "        sales = test_sales[i:i+train_window]\n",
    "        if test_otherinputs is not None:\n",
    "            inputs = test_otherinputs[i:i+train_window]\n",
    "            test_data = np.concatenate((sales,inputs),axis=1)\n",
    "        else:\n",
    "            test_data = sales\n",
    "        seq = torch.FloatTensor(test_data).view(train_window,1,num_variables).to(current_device)\n",
    "        with torch.no_grad():\n",
    "            test_sales = np.append(test_sales,model(seq).item()).reshape(-1,1)\n",
    "    \n",
    "    # add column for scaling\n",
    "    test_sales_for_scaling = np.zeros((future_pred_window,len(scaler.min_)))\n",
    "\n",
    "    test_sales_for_scaling[:,0] = test_sales[train_window:].reshape(-1)\n",
    "    actual_predictions = scaler.inverse_transform(test_sales_for_scaling)[:,0]\n",
    "    check = test_actuals[:future_pred_window,0]\n",
    "       \n",
    "    return actual_predictions, check, rmse(check, actual_predictions), rmspe(check, actual_predictions)"
   ]
  },
  {
   "cell_type": "code",
   "execution_count": 33,
   "metadata": {},
   "outputs": [
    {
     "data": {
      "text/plain": [
       "['NormSchoolHoliday', 'NormPromo']"
      ]
     },
     "execution_count": 33,
     "metadata": {},
     "output_type": "execute_result"
    }
   ],
   "source": [
    "other_columns = list(set(norm_columns) - set(['NormSales']))\n",
    "other_columns"
   ]
  },
  {
   "cell_type": "code",
   "execution_count": 34,
   "metadata": {},
   "outputs": [],
   "source": [
    "train_window=12\n",
    "test_sales = full_train.loc[full_train.Store == 5,'NormSales'].values[-train_window:].reshape(-1,1)\n",
    "test_otherinputs_train = full_train.loc[full_train.Store == 5, other_columns].values[-train_window:].reshape(-1,num_variables-1)\n",
    "test_otherinputs_val = full_val.loc[full_val.Store == 5, other_columns].values.reshape(-1,num_variables-1)\n",
    "test_otherinputs = np.concatenate((test_otherinputs_train, test_otherinputs_val),axis=0)\n",
    "test_actuals = full_val.loc[full_val.Store == 5, 'Sales'].values.reshape(-1,1)\n",
    "future_pred_window = len(test_actuals)"
   ]
  },
  {
   "cell_type": "code",
   "execution_count": 35,
   "metadata": {},
   "outputs": [],
   "source": [
    "actual_predictions, test_actuals, rmse_error, rmspe_error = full_predict(model,future_pred_window, train_window, test_actuals, test_sales, test_otherinputs = test_otherinputs, num_variables=num_variables)"
   ]
  },
  {
   "cell_type": "code",
   "execution_count": 36,
   "metadata": {},
   "outputs": [
    {
     "data": {
      "image/png": "[encoded data removed]",
      "text/plain": [
       "<Figure size 432x288 with 1 Axes>"
      ]
     },
     "metadata": {
      "needs_background": "light"
     },
     "output_type": "display_data"
    }
   ],
   "source": [
    "plt.plot(range(future_pred_window), actual_predictions, label = 'Preds')\n",
    "plt.plot(range(future_pred_window),test_actuals, label = 'Actuals')\n",
    "plt.legend()\n",
    "plt.show()"
   ]
  },
  {
   "cell_type": "code",
   "execution_count": 37,
   "metadata": {},
   "outputs": [
    {
     "data": {
      "text/plain": [
       "array([5301, 2354, 4305, 4438, 5414, 4746, 1997, 7173, 5957, 5697, 4660,\n",
       "       4813, 2151, 4567, 4431, 4134, 5833, 2533, 8396, 6416, 5703, 5807,\n",
       "       5431, 1838, 4260, 3999, 4191, 4082, 4329, 2156, 7808, 6354, 5632,\n",
       "       4924, 5711])"
      ]
     },
     "execution_count": 37,
     "metadata": {},
     "output_type": "execute_result"
    }
   ],
   "source": [
    "test_actuals"
   ]
  },
  {
   "cell_type": "code",
   "execution_count": 38,
   "metadata": {},
   "outputs": [
    {
     "data": {
      "text/plain": [
       "array([ 3050.74440825,  1256.2147713 ,  1123.14245599,  -298.32927774,\n",
       "        -153.16388018,  -567.34267186,   218.80896162,    43.36723845,\n",
       "         800.32659917, -1035.57311143,  -829.13495415, -2206.03149755,\n",
       "       -3304.92150337, -4128.89388829, -5113.54699725, -5107.93136138,\n",
       "       -5758.87369496, -5060.18347222, -5429.29684365, -5084.71557117,\n",
       "       -5735.42853045, -6088.31280643, -6722.90962845, -7874.28787738,\n",
       "       -8309.63336307, -9072.76969272, -8980.79751843, -9188.94834667,\n",
       "       -8681.37992829, -8806.17567867, -8332.223849  , -8378.48368686,\n",
       "       -8543.48102754, -8722.66960567, -9103.59229511])"
      ]
     },
     "execution_count": 38,
     "metadata": {},
     "output_type": "execute_result"
    }
   ],
   "source": [
    "actual_predictions"
   ]
  },
  {
   "cell_type": "code",
   "execution_count": 39,
   "metadata": {},
   "outputs": [
    {
     "data": {
      "text/plain": [
       "2.3704003452370221"
      ]
     },
     "execution_count": 39,
     "metadata": {},
     "output_type": "execute_result"
    }
   ],
   "source": [
    "rmspe_error"
   ]
  },
  {
   "cell_type": "markdown",
   "metadata": {},
   "source": [
    "## Hyperparameter tuning"
   ]
  },
  {
   "cell_type": "code",
   "execution_count": 40,
   "metadata": {},
   "outputs": [],
   "source": [
    "stores = [1,2,3,4,5,13,15,18,21,85,259,262]"
   ]
  },
  {
   "cell_type": "code",
   "execution_count": 41,
   "metadata": {},
   "outputs": [],
   "source": [
    "dropouts = [0, 0.1,0.2]\n",
    "hidden_layer_sizes = [16,32,64]\n",
    "learning_rates = [0.00005, 0.0005, 0.005, 0.01]\n",
    "training_windows = [4,12]\n",
    "train_steps = [4800]\n",
    "rnn_exogenous_options = {'best_val':10**32,\n",
    "           'best_tw':0,\n",
    "           'best_lr':0,\n",
    "           'best_size':0,\n",
    "           'best_dropout':0}\n",
    "\n",
    "norm_columns = ['NormSales','NormSchoolHoliday','NormPromo']\n",
    "num_variables = 3\n",
    "rnn_history = pd.DataFrame(columns=['dropout','hidden_layer_size','learning_rate','training_window','train_steps','rmse'])"
   ]
  },
  {
   "cell_type": "code",
   "execution_count": null,
   "metadata": {},
   "outputs": [],
   "source": [
    "for tw in training_windows:\n",
    "    train_inout_seq = []\n",
    "    for store in stores:\n",
    "        this_store = full_train.loc[full_train.Store == store].sort_values(by='Date')\n",
    "        this_store_sales = this_store[norm_columns].values.astype(float)\n",
    "        inout_seq = create_inout_sequences(this_store_sales,train_window)\n",
    "        train_inout_seq += inout_seq\n",
    "        \n",
    "    val_inout_seq = []\n",
    "    for store in stores:\n",
    "        this_store = full_val.loc[full_val.Store == store].sort_values(by='Date')\n",
    "        this_store_sales = this_store[norm_columns].values.astype(float)\n",
    "        inout_seq = create_inout_sequences(this_store_sales,train_window)\n",
    "        val_inout_seq += inout_seq\n",
    "        \n",
    "    batch_size = 1\n",
    "    train_dataset = SeqDataset(train_inout_seq)\n",
    "    train_data = DataLoader(train_dataset, batch_size=batch_size, shuffle=True, collate_fn=batchify, drop_last=False)\n",
    "\n",
    "    val_dataset = SeqDataset(val_inout_seq)\n",
    "    val_data = DataLoader(val_dataset, batch_size=batch_size, shuffle=False, collate_fn = batchify, drop_last=False)\n",
    "\n",
    "    for learning_rate in learning_rates:\n",
    "        for size in hidden_layer_sizes:\n",
    "            for dropout in dropouts:\n",
    "                for train_step in train_steps:\n",
    "                    print(\"Running model with training window size: {}\\n learning rate: {}\\n hidden size: {}\\n dropout: {}\\n\\n\".format(tw,learning_rate, size, dropout))\n",
    "                    model = RNN(input_size = num_variables, hidden_layers = 2, hidden_layer_size=size, dropout=dropout)\n",
    "                    model.to(current_device)\n",
    "                    loss_function = nn.MSELoss()\n",
    "                    model, avg_train_cache, avg_val_cache = train(model,train_data, val_data, learning_rate = learning_rate, epochs=1, train_steps = train_step, model_type = 'rnn', scaler = scaler)\n",
    "\n",
    "                    avg_val = evaluate(model, val_data, loss_function, scaler, model_type = 'rnn')\n",
    "                    \n",
    "                    current_options = pd.DataFrame([[dropout, size, learning_rate, tw, train_step, np.sqrt(avg_val)]], columns=['dropout','hidden_layer_size','learning_rate','training_window','train_steps','rmse'])\n",
    "                    rnn_history = rnn_history.append(current_options,ignore_index=True)\n",
    "                    print(\"======================The validation RMSE is : {:.7}\".format(np.sqrt(avg_val)))\n",
    "\n",
    "                    if np.sqrt(avg_val) < rnn_exogenous_options['best_val'] :\n",
    "                        rnn_exogenous_options['best_val'] = np.sqrt(avg_val)\n",
    "                        rnn_exogenous_options['best_tw'] = tw\n",
    "                        rnn_exogenous_options['best_lr'] = learning_rate\n",
    "                        rnn_exogenous_options['best_size'] = size\n",
    "                        rnn_exogenous_options['best_dropout'] = dropout\n",
    "                        rnn_exogenous_options['best_trainsteps'] = train_step\n",
    "                        rnn_exogenous_options['variables'] = norm_columns\n",
    "                        #torch.save(model, 'best_exogenous_rnn.pt')\n",
    "\n"
   ]
  },
  {
   "cell_type": "code",
   "execution_count": null,
   "metadata": {},
   "outputs": [],
   "source": [
    "# pkl.dump( rnn_exogenous_options, open( \"rnn_exogenous_options.p\", \"wb\" ) )\n",
    "# pkl.dump( rnn_history, open( \"rnn_exogenous_history.p\", \"wb\" ) )\n",
    "# rnn_exogenous_options"
   ]
  },
  {
   "cell_type": "code",
   "execution_count": 42,
   "metadata": {},
   "outputs": [],
   "source": [
    "dropouts = [0, 0.1,0.2]\n",
    "hidden_layer_sizes = [16,32,64]\n",
    "learning_rates = [0.00005, 0.0005, 0.005, 0.01]\n",
    "training_windows = [4,12]\n",
    "train_steps = [4800]\n",
    "lstm_exogenous_options = {'best_val':10**32,\n",
    "           'best_tw':0,\n",
    "           'best_lr':0,\n",
    "           'best_size':0,\n",
    "           'best_dropout':0}\n",
    "norm_columns = ['NormSales','NormSchoolHoliday','NormPromo']\n",
    "num_variables = 3\n",
    "loss_function = nn.MSELoss()\n",
    "lstm_history = pd.DataFrame(columns=['dropout','hidden_layer_size','learning_rate','training_window','train_steps','rmse'])"
   ]
  },
  {
   "cell_type": "code",
   "execution_count": null,
   "metadata": {},
   "outputs": [],
   "source": [
    "for tw in training_windows:\n",
    "    train_inout_seq = []\n",
    "    for store in stores:\n",
    "        this_store = full_train.loc[full_train.Store == store].sort_values(by='Date')\n",
    "        this_store_sales = this_store[norm_columns].values.astype(float)\n",
    "        inout_seq = create_inout_sequences(this_store_sales,train_window)\n",
    "        train_inout_seq += inout_seq\n",
    "        \n",
    "    val_inout_seq = []\n",
    "    for store in stores:\n",
    "        this_store = full_val.loc[full_val.Store == store].sort_values(by='Date')\n",
    "        this_store_sales = this_store[norm_columns].values.astype(float)\n",
    "        inout_seq = create_inout_sequences(this_store_sales,train_window)\n",
    "        val_inout_seq += inout_seq\n",
    "        \n",
    "    batch_size = 1\n",
    "    train_dataset = SeqDataset(train_inout_seq)\n",
    "    train_data = DataLoader(train_dataset, batch_size=batch_size, shuffle=True, collate_fn=batchify, drop_last=False)\n",
    "\n",
    "    val_dataset = SeqDataset(val_inout_seq)\n",
    "    val_data = DataLoader(val_dataset, batch_size=batch_size, shuffle=False, collate_fn = batchify, drop_last=False)\n",
    "    \n",
    "    for learning_rate in learning_rates:\n",
    "        for size in hidden_layer_sizes:\n",
    "            for dropout in dropouts:\n",
    "                for train_step in train_steps:\n",
    "                    print(\"Running model with training window size: {}\\n learning rate: {}\\n hidden size: {}\\n dropout: {}\\n\\n\".format(tw,learning_rate, size, dropout))\n",
    "                    model = LSTM(input_size = num_variables, hidden_layers = 2, hidden_layer_size=size, dropout=dropout)\n",
    "                    model.to(current_device)\n",
    "                    model, avg_train_cache, avg_val_cache = train(model,train_data, val_data, learning_rate = learning_rate, epochs=1, train_steps = train_step, model_type='lstm', scaler = scaler)\n",
    "\n",
    "                    avg_val = evaluate(model, val_data, loss_function, scaler, model_type='lstm')\n",
    "                    current_options = pd.DataFrame([[dropout, size, learning_rate, tw, train_step, np.sqrt(avg_val)]], columns=['dropout','hidden_layer_size','learning_rate','training_window','train_steps','rmse'])\n",
    "                    lstm_history = lstm_history.append(current_options,ignore_index=True)\n",
    "\n",
    "                    print(\"======================The validation RMSE is : {:.5}\".format(np.sqrt(avg_val)))\n",
    "\n",
    "                    if np.sqrt(avg_val) < lstm_exogenous_options['best_val'] :\n",
    "                        lstm_exogenous_options['best_val'] = np.sqrt(avg_val)\n",
    "                        lstm_exogenous_options['best_tw'] = tw\n",
    "                        lstm_exogenous_options['best_lr'] = learning_rate\n",
    "                        lstm_exogenous_options['best_size'] = size\n",
    "                        lstm_exogenous_options['best_dropout'] = dropout\n",
    "                        lstm_exogenous_options['best_trainsteps'] = train_step\n",
    "\n",
    "                        torch.save(model, 'best_exogenous_lstm.pt')\n",
    "\n"
   ]
  },
  {
   "cell_type": "code",
   "execution_count": null,
   "metadata": {},
   "outputs": [],
   "source": [
    "# pkl.dump( lstm_exogenous_options, open( \"lstm_exogenous_options.p\", \"wb\" ) )\n",
    "# pkl.dump( lstm_history, open( \"lstm_exogenous_history.p\", \"wb\" ) )\n",
    "\n",
    "# lstm_exogenous_options"
   ]
  },
  {
   "cell_type": "code",
   "execution_count": null,
   "metadata": {},
   "outputs": [],
   "source": [
    "# val_errors = []\n",
    "# for l in range(5):\n",
    "#     tw = 24\n",
    "#     num_variables = 3\n",
    "#     learning_rate = 0.005\n",
    "#     size = 16\n",
    "#     dropout = 0\n",
    "#     train_steps = 4000\n",
    "\n",
    "#     loss_function = nn.MSELoss()\n",
    "\n",
    "#     train_inout_seq = []\n",
    "#     for store in stores:\n",
    "#         this_store = full_train.loc[full_train.Store == store].sort_values(by='Date')\n",
    "#         this_store_sales = this_store[norm_columns].values.astype(float)\n",
    "#         inout_seq = create_inout_sequences(this_store_sales,train_window)\n",
    "#         train_inout_seq += inout_seq\n",
    "\n",
    "#     val_inout_seq = []\n",
    "#     for store in stores:\n",
    "#         this_store = full_val.loc[full_val.Store == store].sort_values(by='Date')\n",
    "#         this_store_sales = this_store[norm_columns].values.astype(float)\n",
    "#         inout_seq = create_inout_sequences(this_store_sales,train_window)\n",
    "#         val_inout_seq += inout_seq\n",
    "\n",
    "#     batch_size = 1\n",
    "#     train_dataset = SeqDataset(train_inout_seq)\n",
    "#     train_data = DataLoader(train_dataset, batch_size=batch_size, shuffle=True, collate_fn=batchify, drop_last=False)\n",
    "\n",
    "#     val_dataset = SeqDataset(val_inout_seq)\n",
    "#     val_data = DataLoader(val_dataset, batch_size=batch_size, shuffle=False, collate_fn = batchify, drop_last=False)\n",
    "\n",
    "\n",
    "#     print(\"Running model with training window size: {}\\n learning rate: {}\\n hidden size: {}\\n dropout: {}\\n\\n\".format(tw,learning_rate, size, dropout))\n",
    "#     model = RNN(input_size=num_variables, hidden_layers = 2, hidden_layer_size=size, dropout=dropout)\n",
    "#     model.to(current_device) \n",
    "#     model, avg_train_cache, avg_val_cache = train(model,train_data, val_data, learning_rate = learning_rate, epochs=1, train_steps = train_steps, model_type='rnn', scaler = scaler)\n",
    "\n",
    "#     avg_val = evaluate(model, val_data, loss_function, scaler, model_type='rnn')\n",
    "\n",
    "#     print(\"======================The validation RMSE is : {:.5}\".format(np.sqrt(avg_val)))\n",
    "#     val_errors.append(np.sqrt(avg_val))\n",
    "#     # torch.save(model, 'best_exogenous_rnn.pt')\n",
    "\n",
    "# print(np.mean(val_errors))"
   ]
  },
  {
   "cell_type": "markdown",
   "metadata": {},
   "source": [
    "# Evaluation"
   ]
  },
  {
   "cell_type": "code",
   "execution_count": 43,
   "metadata": {},
   "outputs": [],
   "source": [
    "def full_predict(model, future_pred_window, train_window, test_actuals, test_sales, test_otherinputs = None, num_variables=1, model_type = 'rnn'):\n",
    "    model.eval()\n",
    "\n",
    "    for i in range(future_pred_window):\n",
    "        sales = test_sales[i:i+train_window]\n",
    "        if test_otherinputs is not None:\n",
    "            inputs = test_otherinputs[i:i+train_window]\n",
    "            test_data = np.concatenate((sales,inputs),axis=1)\n",
    "        else:\n",
    "            test_data = sales\n",
    "        seq = torch.FloatTensor(test_data).view(train_window,1,num_variables).to(current_device)\n",
    "        with torch.no_grad():\n",
    "            test_sales = np.append(test_sales,model(seq).item()).reshape(-1,1)\n",
    "    \n",
    "    # add column for scaling\n",
    "    test_sales_for_scaling = np.zeros((future_pred_window,len(scaler.min_)))\n",
    "\n",
    "    test_sales_for_scaling[:,0] = test_sales[train_window:].reshape(-1)\n",
    "    actual_predictions = scaler.inverse_transform(test_sales_for_scaling)[:,0]\n",
    "    check = test_actuals[:future_pred_window,0]\n",
    "       \n",
    "    return actual_predictions, check, rmse(check, actual_predictions), rmspe(check, actual_predictions)"
   ]
  },
  {
   "cell_type": "code",
   "execution_count": 44,
   "metadata": {},
   "outputs": [],
   "source": [
    "def onestep_predict(model, future_pred_window, train_window, test_actuals, test_sales, test_otherinputs = None, num_variables=1, model_type = 'rnn'):\n",
    "    model.eval()\n",
    "    one_step_predictions = []\n",
    "    for i in range(future_pred_window):\n",
    "        sales = test_sales[i:i+train_window]\n",
    "        if test_otherinputs is not None:\n",
    "            inputs = test_otherinputs[i:i+train_window]\n",
    "            test_data = np.concatenate((sales,inputs),axis=1)\n",
    "        else:\n",
    "            test_data = sales        \n",
    "        seq = torch.FloatTensor(test_data).view(train_window,1,num_variables).to(current_device)\n",
    "        with torch.no_grad():\n",
    "            one_step_predictions.append(model(seq).item())\n",
    "    one_step_predictions = np.array(one_step_predictions).reshape(-1,1)\n",
    "    \n",
    "    # add column for scaling\n",
    "    test_sales_for_scaling = np.zeros((future_pred_window,len(scaler.min_)))\n",
    "    test_sales_for_scaling[:,0] = one_step_predictions.reshape(-1)\n",
    "    actual_predictions = scaler.inverse_transform(test_sales_for_scaling)[:,0]\n",
    "    check = test_actuals[:future_pred_window,0]\n",
    "    \n",
    "    return actual_predictions, check, rmse(check, actual_predictions), rmspe(check, actual_predictions)"
   ]
  },
  {
   "cell_type": "markdown",
   "metadata": {},
   "source": [
    "### RNN"
   ]
  },
  {
   "cell_type": "code",
   "execution_count": 45,
   "metadata": {},
   "outputs": [],
   "source": [
    "rnn_exogenous_options = pkl.load( open( \"rnn_exogenous_options.p\", \"rb\" ) )\n",
    "model = torch.load('best_exogenous_rnn.pt')\n",
    "\n",
    "loss_function = nn.MSELoss()\n",
    "tw = rnn_exogenous_options['best_tw']\n",
    "num_variables = len(rnn_exogenous_options['variables'])\n",
    "norm_columns = rnn_exogenous_options['variables']\n",
    "other_columns = list(set(norm_columns) - set(['NormSales']))"
   ]
  },
  {
   "cell_type": "code",
   "execution_count": 46,
   "metadata": {},
   "outputs": [
    {
     "name": "stdout",
     "output_type": "stream",
     "text": [
      "Plotting Store 21\n",
      "Future prediction window: 34\n"
     ]
    }
   ],
   "source": [
    "stores = [1,2,3,4,5,13,15,18,21,85,259,262]\n",
    "store_to_plot = np.random.choice(stores,1)[0]\n",
    "print(\"Plotting Store {}\".format(store_to_plot))\n",
    "\n",
    "future_pred_window = len(full_val.loc[full_val.Store == store_to_plot, 'NormSales'])\n",
    "print(\"Future prediction window: {}\".format(future_pred_window))\n",
    "\n",
    "initial_test_sales = full_train.loc[full_train.Store == store_to_plot,'NormSales'].values[-tw:].reshape(-1,1)\n",
    "test_actuals = full_val.loc[full_val.Store == store_to_plot, 'NormSales'].values.reshape(-1,1)\n",
    "test_sales = np.append(initial_test_sales, test_actuals).reshape(-1,1)\n",
    "\n",
    "test_otherinputs_train = full_train.loc[full_train.Store == store_to_plot, other_columns].values[-tw:].reshape(-1,num_variables-1)\n",
    "test_otherinputs_val = full_val.loc[full_val.Store == store_to_plot, other_columns].values.reshape(-1,num_variables-1)\n",
    "test_otherinputs = np.concatenate((test_otherinputs_train, test_otherinputs_val),axis=0)\n",
    "\n",
    "test_actuals = full_val.loc[full_val.Store == store_to_plot, 'Sales'].values[:future_pred_window].reshape(-1,1)"
   ]
  },
  {
   "cell_type": "code",
   "execution_count": 47,
   "metadata": {},
   "outputs": [],
   "source": [
    "actual_predictions, check, rmse_error, rmspe_error = onestep_predict(model, future_pred_window, tw, test_actuals, test_sales, test_otherinputs = test_otherinputs, num_variables = num_variables,model_type = 'rnn')"
   ]
  },
  {
   "cell_type": "code",
   "execution_count": 48,
   "metadata": {},
   "outputs": [
    {
     "name": "stdout",
     "output_type": "stream",
     "text": [
      "RMSPE errror: 0.609416\n",
      "RMSE errror: 2419.74\n"
     ]
    },
    {
     "data": {
      "image/png": "[encoded data removed]",
      "text/plain": [
       "<Figure size 432x288 with 1 Axes>"
      ]
     },
     "metadata": {
      "needs_background": "light"
     },
     "output_type": "display_data"
    }
   ],
   "source": [
    "plt.plot(np.arange(len(actual_predictions)), actual_predictions)\n",
    "plt.plot(np.arange(len(actual_predictions)), check)\n",
    "print(\"RMSPE errror: {:.6}\".format(rmspe_error))\n",
    "print(\"RMSE errror: {:.6}\".format(rmse_error))"
   ]
  },
  {
   "cell_type": "code",
   "execution_count": 49,
   "metadata": {},
   "outputs": [],
   "source": [
    "initial_test_sales = full_train.loc[full_train.Store == store_to_plot,'NormSales'].values[-tw:].reshape(-1,1)\n",
    "test_sales = initial_test_sales.reshape(-1,1)\n",
    "\n",
    "test_otherinputs_train = full_train.loc[full_train.Store == store_to_plot, other_columns].values[-tw:].reshape(-1,num_variables-1)\n",
    "test_otherinputs_val = full_val.loc[full_val.Store == store_to_plot, other_columns].values.reshape(-1,num_variables-1)\n",
    "test_otherinputs = np.concatenate((test_otherinputs_train, test_otherinputs_val),axis=0)\n",
    "\n",
    "test_actuals = full_val.loc[full_val.Store == store_to_plot, 'Sales'].values.reshape(-1,1)\n",
    "actual_predictions, check, rmse_error, mape_error = full_predict(model,future_pred_window, tw, test_actuals, test_sales, test_otherinputs = test_otherinputs, num_variables=num_variables)"
   ]
  },
  {
   "cell_type": "code",
   "execution_count": 50,
   "metadata": {},
   "outputs": [
    {
     "data": {
      "image/png": "[encoded data removed]",
      "text/plain": [
       "<Figure size 432x288 with 1 Axes>"
      ]
     },
     "metadata": {
      "needs_background": "light"
     },
     "output_type": "display_data"
    },
    {
     "name": "stdout",
     "output_type": "stream",
     "text": [
      "MAPE errror: 0.949618\n",
      "RMSE errror: 4143.1\n"
     ]
    }
   ],
   "source": [
    "plt.plot(range(future_pred_window), actual_predictions, label = 'Preds')\n",
    "plt.plot(range(future_pred_window),check, label = 'Actuals')\n",
    "plt.legend()\n",
    "plt.show()\n",
    "print(\"MAPE errror: {:.6}\".format(mape_error))\n",
    "print(\"RMSE errror: {:.6}\".format(rmse_error))"
   ]
  },
  {
   "cell_type": "code",
   "execution_count": 51,
   "metadata": {},
   "outputs": [
    {
     "name": "stdout",
     "output_type": "stream",
     "text": [
      "Mean RMSE: 4794.949803\n",
      "Mean RMSPE: 0.814479\n"
     ]
    }
   ],
   "source": [
    "full_rmse_error = []\n",
    "full_rmspe_error = []\n",
    "for store in stores:\n",
    "    initial_test_sales = full_train.loc[full_train.Store == store,'NormSales'].values[-tw:].reshape(-1,1)\n",
    "    test_sales = initial_test_sales.reshape(-1,1)\n",
    "\n",
    "    test_otherinputs_train = full_train.loc[full_train.Store == store, other_columns].values[-tw:].reshape(-1,num_variables-1)\n",
    "    test_otherinputs_val = full_val.loc[full_val.Store == store, other_columns].values.reshape(-1,num_variables-1)\n",
    "    test_otherinputs = np.concatenate((test_otherinputs_train, test_otherinputs_val),axis=0)\n",
    "\n",
    "    test_actuals = full_val.loc[full_val.Store == store, 'Sales'].values.reshape(-1,1)\n",
    "    future_pred_window = len(test_actuals)\n",
    "    actual_predictions, check, rmse_error, rmspe_error = full_predict(model,future_pred_window, tw, test_actuals, test_sales, test_otherinputs = test_otherinputs, num_variables=num_variables)\n",
    "    full_rmse_error.append(rmse_error)\n",
    "    full_rmspe_error.append(rmspe_error)\n",
    "    \n",
    "print(\"Mean RMSE: {:.6f}\".format(np.mean(full_rmse_error)))\n",
    "print(\"Mean RMSPE: {:.6f}\".format(np.mean(full_rmspe_error)))"
   ]
  },
  {
   "cell_type": "markdown",
   "metadata": {},
   "source": [
    "### LSTM"
   ]
  },
  {
   "cell_type": "code",
   "execution_count": 52,
   "metadata": {},
   "outputs": [],
   "source": [
    "lstm_options = pkl.load( open( \"lstm_exogenous_options.p\", \"rb\" ) )\n",
    "model = torch.load('best_exogenous_lstm.pt')\n",
    "\n",
    "loss_function = nn.MSELoss()\n",
    "tw = rnn_exogenous_options['best_tw']\n",
    "num_variables = len(rnn_exogenous_options['variables'])\n",
    "norm_columns = rnn_exogenous_options['variables']"
   ]
  },
  {
   "cell_type": "code",
   "execution_count": 53,
   "metadata": {},
   "outputs": [
    {
     "name": "stdout",
     "output_type": "stream",
     "text": [
      "Plotting Store 21\n",
      "Future prediction window: 34\n"
     ]
    }
   ],
   "source": [
    "stores = [1,2,3,4,5,13,15,18,21,85,259,262]\n",
    "store_to_plot = np.random.choice(stores,1)[0]\n",
    "print(\"Plotting Store {}\".format(store_to_plot))\n",
    "\n",
    "future_pred_window = len(full_val.loc[full_val.Store == store_to_plot, 'NormSales'])\n",
    "print(\"Future prediction window: {}\".format(future_pred_window))\n",
    "\n",
    "initial_test_sales = full_train.loc[full_train.Store == store_to_plot,'NormSales'].values[-tw:].reshape(-1,1)\n",
    "test_actuals = full_val.loc[full_val.Store == store_to_plot, 'NormSales'].values.reshape(-1,1)\n",
    "test_sales = np.append(initial_test_sales, test_actuals).reshape(-1,1)\n",
    "\n",
    "test_otherinputs_train = full_train.loc[full_train.Store == store_to_plot, other_columns].values[-tw:].reshape(-1,num_variables-1)\n",
    "test_otherinputs_val = full_val.loc[full_val.Store == store_to_plot, other_columns].values.reshape(-1,num_variables-1)\n",
    "test_otherinputs = np.concatenate((test_otherinputs_train, test_otherinputs_val),axis=0)\n",
    "\n",
    "test_actuals = full_val.loc[full_val.Store == store_to_plot, 'Sales'].values[:future_pred_window].reshape(-1,1)"
   ]
  },
  {
   "cell_type": "raw",
   "metadata": {},
   "source": [
    "actual_predictions, check, rmse_error, rmspe_error = onestep_predict(model, future_pred_window, tw, test_actuals, test_sales, test_otherinputs = test_otherinputs, num_variables = num_variables,model_type = 'lstm')"
   ]
  },
  {
   "cell_type": "code",
   "execution_count": 54,
   "metadata": {},
   "outputs": [
    {
     "name": "stdout",
     "output_type": "stream",
     "text": [
      "RMSPE errror: 0.949618\n",
      "RMSE errror: 12682.8\n"
     ]
    },
    {
     "data": {
      "image/png": "[encoded data removed]",
      "text/plain": [
       "<Figure size 432x288 with 1 Axes>"
      ]
     },
     "metadata": {
      "needs_background": "light"
     },
     "output_type": "display_data"
    }
   ],
   "source": [
    "plt.plot(np.arange(len(actual_predictions)), actual_predictions)\n",
    "plt.plot(np.arange(len(actual_predictions)), check)\n",
    "print(\"RMSPE errror: {:.6}\".format(mape_error))\n",
    "print(\"RMSE errror: {:.6}\".format(rmse_error))"
   ]
  },
  {
   "cell_type": "code",
   "execution_count": 55,
   "metadata": {},
   "outputs": [],
   "source": [
    "initial_test_sales = full_train.loc[full_train.Store == store_to_plot,'NormSales'].values[-tw:].reshape(-1,1)\n",
    "test_sales = initial_test_sales.reshape(-1,1)\n",
    "\n",
    "test_otherinputs_train = full_train.loc[full_train.Store == store_to_plot, other_columns].values[-tw:].reshape(-1,num_variables-1)\n",
    "test_otherinputs_val = full_val.loc[full_val.Store == store_to_plot, other_columns].values.reshape(-1,num_variables-1)\n",
    "test_otherinputs = np.concatenate((test_otherinputs_train, test_otherinputs_val),axis=0)\n",
    "\n",
    "test_actuals = full_val.loc[full_val.Store == store_to_plot, 'Sales'].values.reshape(-1,1)\n",
    "actual_predictions, check, rmse_error, rmspe_error = full_predict(model,future_pred_window, tw, test_actuals, test_sales, test_otherinputs = test_otherinputs, num_variables=num_variables)"
   ]
  },
  {
   "cell_type": "code",
   "execution_count": 56,
   "metadata": {},
   "outputs": [
    {
     "data": {
      "image/png": "[encoded data removed]",
      "text/plain": [
       "<Figure size 432x288 with 1 Axes>"
      ]
     },
     "metadata": {
      "needs_background": "light"
     },
     "output_type": "display_data"
    },
    {
     "name": "stdout",
     "output_type": "stream",
     "text": [
      "RMSPE errror: 0.589835\n",
      "RMSE errror: 2416.36\n"
     ]
    }
   ],
   "source": [
    "plt.plot(range(future_pred_window), actual_predictions, label = 'Preds')\n",
    "plt.plot(range(future_pred_window),check, label = 'Actuals')\n",
    "plt.legend()\n",
    "plt.show()\n",
    "print(\"RMSPE errror: {:.6}\".format(rmspe_error))\n",
    "print(\"RMSE errror: {:.6}\".format(rmse_error))"
   ]
  },
  {
   "cell_type": "code",
   "execution_count": 57,
   "metadata": {},
   "outputs": [
    {
     "name": "stdout",
     "output_type": "stream",
     "text": [
      "Mean RMSE: 3808.510975\n",
      "Mean MAPE: 0.532629\n"
     ]
    }
   ],
   "source": [
    "full_rmse_error = []\n",
    "full_mape_error = []\n",
    "for store in stores:\n",
    "    initial_test_sales = full_train.loc[full_train.Store == store,'NormSales'].values[-tw:].reshape(-1,1)\n",
    "    test_sales = initial_test_sales.reshape(-1,1)\n",
    "\n",
    "    test_otherinputs_train = full_train.loc[full_train.Store == store, other_columns].values[-tw:].reshape(-1,num_variables-1)\n",
    "    test_otherinputs_val = full_val.loc[full_val.Store == store, other_columns].values.reshape(-1,num_variables-1)\n",
    "    test_otherinputs = np.concatenate((test_otherinputs_train, test_otherinputs_val),axis=0)\n",
    "\n",
    "    test_actuals = full_val.loc[full_val.Store == store, 'Sales'].values.reshape(-1,1)\n",
    "    future_pred_window = len(test_actuals)\n",
    "    actual_predictions, check, rmse_error, mape_error = full_predict(model,future_pred_window, tw, test_actuals, test_sales, test_otherinputs = test_otherinputs, num_variables=num_variables)\n",
    "    full_rmse_error.append(rmse_error)\n",
    "    full_mape_error.append(mape_error)\n",
    "    \n",
    "print(\"Mean RMSE: {:.6f}\".format(np.mean(full_rmse_error)))\n",
    "print(\"Mean MAPE: {:.6f}\".format(np.mean(full_mape_error)))"
   ]
  },
  {
   "cell_type": "markdown",
   "metadata": {},
   "source": [
    "# Store subset"
   ]
  },
  {
   "cell_type": "code",
   "execution_count": null,
   "metadata": {},
   "outputs": [],
   "source": [
    "stores = [1,2,3,4,5,13,15,18,21,85,259,262]\n",
    "tw = 12\n",
    "\n",
    "norm_columns = ['NormSales', 'NormYear','NormMonth','NormDay','NormDayOfWeek','NormWeekOfYear', 'NormPromo','NormSchoolHoliday']\n",
    "other_columns = list(set(norm_columns) - set(['NormSales']))\n",
    "\n",
    "num_variables = len(norm_columns)\n",
    "learning_rate = 0.00005\n",
    "dropout = 0.1\n",
    "num_layers = 2\n",
    "\n",
    "size = 32\n",
    "num_epochs = 10\n",
    "val_steps = 1000\n",
    "train_log_steps = 600\n",
    "\n",
    "full_rmse_error = []\n",
    "full_rmspe_error = []\n",
    "\n",
    "for the_store in stores:\n",
    "    these_stores = [the_store]\n",
    "    print(\"Loading train data\")\n",
    "    train_inout_seq = []\n",
    "    for store in these_stores:\n",
    "        this_store = full_train.loc[full_train.Store == store].sort_values(by='Date')\n",
    "        this_store_sales = this_store[norm_columns].values.astype(float)\n",
    "        inout_seq = create_inout_sequences(this_store_sales,tw)\n",
    "        train_inout_seq += inout_seq\n",
    "\n",
    "    print(\"Loading val data\")\n",
    "    val_inout_seq = []\n",
    "    for store in these_stores:\n",
    "        this_store = full_val.loc[full_val.Store == store].sort_values(by='Date')\n",
    "        this_store_sales = this_store[norm_columns].values.astype(float)\n",
    "        inout_seq = create_inout_sequences(this_store_sales,tw)\n",
    "        val_inout_seq += inout_seq\n",
    "\n",
    "    batch_size = 1\n",
    "    train_dataset = SeqDataset(train_inout_seq)\n",
    "    train_data = DataLoader(train_dataset, batch_size=batch_size, shuffle=True, collate_fn=lambda b: batchify(b,num_variables), drop_last=False)\n",
    "\n",
    "    val_dataset = SeqDataset(val_inout_seq)\n",
    "    val_data = DataLoader(val_dataset, batch_size=batch_size, shuffle=False, collate_fn = lambda b: batchify(b,num_variables), drop_last=False)\n",
    "\n",
    "    print(\"Running model with training window size: {}\\n learning rate: {}\\n hidden size: {}\\n dropout: {}\\n\\n\".format(tw,learning_rate, size, dropout))\n",
    "    model = LSTM(input_size = num_variables, hidden_layers = num_layers, hidden_layer_size=size, dropout=dropout, output_size = 1)\n",
    "    model.to(current_device)\n",
    "    model, avg_train_cache, avg_val_cache = train(model,train_data, val_data, learning_rate = learning_rate, epochs=num_epochs, train_log_steps = train_log_steps, val_log_steps = val_steps, train_steps = 4000, model_type='lstm', scaler = None)\n",
    "\n",
    "    avg_val = evaluate(model, val_data, loss_function, scaler, model_type='lstm')\n",
    "    initial_test_sales = full_val.loc[full_val.Store == the_store,'NormSales'].values[-tw:].reshape(-1,1)\n",
    "    test_sales = initial_test_sales.reshape(-1,1)\n",
    "    \n",
    "    test_otherinputs_train = full_val.loc[full_val.Store == the_store, other_columns].values[-tw:].reshape(-1,num_variables-1)\n",
    "    test_otherinputs_val = full_test.loc[full_test.Store == the_store, other_columns].values.reshape(-1,num_variables-1)\n",
    "    test_otherinputs = np.concatenate((test_otherinputs_train, test_otherinputs_val),axis=0)\n",
    "\n",
    "    test_actuals = full_test.loc[full_test.Store == the_store, 'Sales'].values.reshape(-1,1)\n",
    "    future_pred_window = len(test_actuals)\n",
    "    \n",
    "    actual_predictions, check, rmse_error, rmspe_error = full_predict(model,future_pred_window, tw, test_actuals, test_sales, test_otherinputs = test_otherinputs, num_variables=num_variables)\n",
    "    full_rmse_error.append(rmse_error)\n",
    "    full_rmspe_error.append(rmspe_error)\n",
    "    \n",
    "print(\"Mean RMSE: {:.6f}\".format(np.mean(full_rmse_error)))\n",
    "print(\"Mean RMSPE: {:.6f}\".format(np.mean(full_rmspe_error)))"
   ]
  },
  {
   "cell_type": "code",
   "execution_count": null,
   "metadata": {},
   "outputs": [],
   "source": []
  }
 ],
 "metadata": {
  "kernelspec": {
   "display_name": "Python 3",
   "language": "python",
   "name": "python3"
  },
  "language_info": {
   "codemirror_mode": {
    "name": "ipython",
    "version": 3
   },
   "file_extension": ".py",
   "mimetype": "text/x-python",
   "name": "python",
   "nbconvert_exporter": "python",
   "pygments_lexer": "ipython3",
   "version": "3.6.7"
  }
 },
 "nbformat": 4,
 "nbformat_minor": 4
}
