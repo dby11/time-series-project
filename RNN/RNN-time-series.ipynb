{
 "cells": [
  {
   "cell_type": "code",
   "execution_count": 1,
   "metadata": {
    "scrolled": true
   },
   "outputs": [
    {
     "name": "stderr",
     "output_type": "stream",
     "text": [
      "/home/derek/anaconda3/envs/timeseries/lib/python3.6/site-packages/statsmodels/compat/pandas.py:56: FutureWarning: The pandas.core.datetools module is deprecated and will be removed in a future version. Please use the pandas.tseries module instead.\n",
      "  from pandas.core import datetools\n"
     ]
    }
   ],
   "source": [
    "import pandas as pd\n",
    "import random\n",
    "import matplotlib.pyplot as plt\n",
    "import matplotlib.dates as mdates\n",
    "from sklearn.preprocessing import MinMaxScaler, StandardScaler\n",
    "from sklearn.metrics import mean_squared_error\n",
    "from statsmodels.graphics.tsaplots import plot_acf, plot_pacf\n",
    "import numpy as np\n",
    "import torch\n",
    "import torch.nn as nn\n",
    "from torch.utils.data import Dataset, DataLoader\n",
    "from torch.autograd import Variable\n",
    "import pickle as pkl\n",
    "\n",
    "torch.manual_seed(100)\n",
    "torch.cuda.manual_seed(100)\n",
    "np.random.seed(100)\n",
    "random.seed(100)"
   ]
  },
  {
   "cell_type": "markdown",
   "metadata": {},
   "source": [
    "# Initial analysis"
   ]
  },
  {
   "cell_type": "code",
   "execution_count": 2,
   "metadata": {},
   "outputs": [],
   "source": [
    "if torch.cuda.is_available():\n",
    "    rank = 0\n",
    "    torch.cuda.set_device(rank)\n",
    "    current_device = torch.device(\"cuda\", rank)\n",
    "else:\n",
    "    current_device = torch.device(\"cpu\")\n"
   ]
  },
  {
   "cell_type": "code",
   "execution_count": 3,
   "metadata": {},
   "outputs": [
    {
     "data": {
      "text/html": [
       "<div>\n",
       "<style>\n",
       "    .dataframe thead tr:only-child th {\n",
       "        text-align: right;\n",
       "    }\n",
       "\n",
       "    .dataframe thead th {\n",
       "        text-align: left;\n",
       "    }\n",
       "\n",
       "    .dataframe tbody tr th {\n",
       "        vertical-align: top;\n",
       "    }\n",
       "</style>\n",
       "<table border=\"1\" class=\"dataframe\">\n",
       "  <thead>\n",
       "    <tr style=\"text-align: right;\">\n",
       "      <th></th>\n",
       "      <th>Id</th>\n",
       "      <th>Store</th>\n",
       "      <th>DayOfWeek</th>\n",
       "      <th>Date</th>\n",
       "      <th>Open</th>\n",
       "      <th>Promo</th>\n",
       "      <th>StateHoliday</th>\n",
       "      <th>SchoolHoliday</th>\n",
       "    </tr>\n",
       "  </thead>\n",
       "  <tbody>\n",
       "    <tr>\n",
       "      <th>0</th>\n",
       "      <td>1</td>\n",
       "      <td>1</td>\n",
       "      <td>4</td>\n",
       "      <td>2015-09-17</td>\n",
       "      <td>1.0</td>\n",
       "      <td>1</td>\n",
       "      <td>0</td>\n",
       "      <td>0</td>\n",
       "    </tr>\n",
       "    <tr>\n",
       "      <th>1</th>\n",
       "      <td>2</td>\n",
       "      <td>3</td>\n",
       "      <td>4</td>\n",
       "      <td>2015-09-17</td>\n",
       "      <td>1.0</td>\n",
       "      <td>1</td>\n",
       "      <td>0</td>\n",
       "      <td>0</td>\n",
       "    </tr>\n",
       "    <tr>\n",
       "      <th>2</th>\n",
       "      <td>3</td>\n",
       "      <td>7</td>\n",
       "      <td>4</td>\n",
       "      <td>2015-09-17</td>\n",
       "      <td>1.0</td>\n",
       "      <td>1</td>\n",
       "      <td>0</td>\n",
       "      <td>0</td>\n",
       "    </tr>\n",
       "    <tr>\n",
       "      <th>3</th>\n",
       "      <td>4</td>\n",
       "      <td>8</td>\n",
       "      <td>4</td>\n",
       "      <td>2015-09-17</td>\n",
       "      <td>1.0</td>\n",
       "      <td>1</td>\n",
       "      <td>0</td>\n",
       "      <td>0</td>\n",
       "    </tr>\n",
       "    <tr>\n",
       "      <th>4</th>\n",
       "      <td>5</td>\n",
       "      <td>9</td>\n",
       "      <td>4</td>\n",
       "      <td>2015-09-17</td>\n",
       "      <td>1.0</td>\n",
       "      <td>1</td>\n",
       "      <td>0</td>\n",
       "      <td>0</td>\n",
       "    </tr>\n",
       "  </tbody>\n",
       "</table>\n",
       "</div>"
      ],
      "text/plain": [
       "   Id  Store  DayOfWeek        Date  Open  Promo StateHoliday  SchoolHoliday\n",
       "0   1      1          4  2015-09-17   1.0      1            0              0\n",
       "1   2      3          4  2015-09-17   1.0      1            0              0\n",
       "2   3      7          4  2015-09-17   1.0      1            0              0\n",
       "3   4      8          4  2015-09-17   1.0      1            0              0\n",
       "4   5      9          4  2015-09-17   1.0      1            0              0"
      ]
     },
     "execution_count": 3,
     "metadata": {},
     "output_type": "execute_result"
    }
   ],
   "source": [
    "actual_test_data = pd.read_csv('test.csv')\n",
    "actual_test_data.head()"
   ]
  },
  {
   "cell_type": "code",
   "execution_count": 4,
   "metadata": {},
   "outputs": [],
   "source": [
    "VAL_DATE = '2015-05-08'\n",
    "TEST_DATE = '2015-06-20'"
   ]
  },
  {
   "cell_type": "code",
   "execution_count": 5,
   "metadata": {},
   "outputs": [],
   "source": [
    "data = pd.read_csv('train.csv', low_memory=False)"
   ]
  },
  {
   "cell_type": "code",
   "execution_count": 6,
   "metadata": {},
   "outputs": [],
   "source": [
    "stores = pd.read_csv('store.csv')"
   ]
  },
  {
   "cell_type": "code",
   "execution_count": 7,
   "metadata": {},
   "outputs": [],
   "source": [
    "full_data = data.merge(stores, on='Store')\n",
    "full_data = full_data.sort_values(by='Date')"
   ]
  },
  {
   "cell_type": "code",
   "execution_count": 8,
   "metadata": {},
   "outputs": [
    {
     "data": {
      "text/html": [
       "<div>\n",
       "<style>\n",
       "    .dataframe thead tr:only-child th {\n",
       "        text-align: right;\n",
       "    }\n",
       "\n",
       "    .dataframe thead th {\n",
       "        text-align: left;\n",
       "    }\n",
       "\n",
       "    .dataframe tbody tr th {\n",
       "        vertical-align: top;\n",
       "    }\n",
       "</style>\n",
       "<table border=\"1\" class=\"dataframe\">\n",
       "  <thead>\n",
       "    <tr style=\"text-align: right;\">\n",
       "      <th></th>\n",
       "      <th>Store</th>\n",
       "      <th>DayOfWeek</th>\n",
       "      <th>Date</th>\n",
       "      <th>Sales</th>\n",
       "      <th>Customers</th>\n",
       "      <th>Open</th>\n",
       "      <th>Promo</th>\n",
       "      <th>StateHoliday</th>\n",
       "      <th>SchoolHoliday</th>\n",
       "      <th>StoreType</th>\n",
       "      <th>Assortment</th>\n",
       "      <th>CompetitionDistance</th>\n",
       "      <th>CompetitionOpenSinceMonth</th>\n",
       "      <th>CompetitionOpenSinceYear</th>\n",
       "      <th>Promo2</th>\n",
       "      <th>Promo2SinceWeek</th>\n",
       "      <th>Promo2SinceYear</th>\n",
       "      <th>PromoInterval</th>\n",
       "    </tr>\n",
       "  </thead>\n",
       "  <tbody>\n",
       "    <tr>\n",
       "      <th>1017208</th>\n",
       "      <td>1115</td>\n",
       "      <td>2</td>\n",
       "      <td>2013-01-01</td>\n",
       "      <td>0</td>\n",
       "      <td>0</td>\n",
       "      <td>0</td>\n",
       "      <td>0</td>\n",
       "      <td>a</td>\n",
       "      <td>1</td>\n",
       "      <td>d</td>\n",
       "      <td>c</td>\n",
       "      <td>5350.0</td>\n",
       "      <td>NaN</td>\n",
       "      <td>NaN</td>\n",
       "      <td>1</td>\n",
       "      <td>22.0</td>\n",
       "      <td>2012.0</td>\n",
       "      <td>Mar,Jun,Sept,Dec</td>\n",
       "    </tr>\n",
       "    <tr>\n",
       "      <th>679363</th>\n",
       "      <td>746</td>\n",
       "      <td>2</td>\n",
       "      <td>2013-01-01</td>\n",
       "      <td>0</td>\n",
       "      <td>0</td>\n",
       "      <td>0</td>\n",
       "      <td>0</td>\n",
       "      <td>a</td>\n",
       "      <td>1</td>\n",
       "      <td>d</td>\n",
       "      <td>c</td>\n",
       "      <td>4330.0</td>\n",
       "      <td>2.0</td>\n",
       "      <td>2011.0</td>\n",
       "      <td>1</td>\n",
       "      <td>35.0</td>\n",
       "      <td>2011.0</td>\n",
       "      <td>Mar,Jun,Sept,Dec</td>\n",
       "    </tr>\n",
       "    <tr>\n",
       "      <th>155193</th>\n",
       "      <td>171</td>\n",
       "      <td>2</td>\n",
       "      <td>2013-01-01</td>\n",
       "      <td>0</td>\n",
       "      <td>0</td>\n",
       "      <td>0</td>\n",
       "      <td>0</td>\n",
       "      <td>a</td>\n",
       "      <td>1</td>\n",
       "      <td>a</td>\n",
       "      <td>a</td>\n",
       "      <td>2640.0</td>\n",
       "      <td>NaN</td>\n",
       "      <td>NaN</td>\n",
       "      <td>0</td>\n",
       "      <td>NaN</td>\n",
       "      <td>NaN</td>\n",
       "      <td>NaN</td>\n",
       "    </tr>\n",
       "    <tr>\n",
       "      <th>632403</th>\n",
       "      <td>694</td>\n",
       "      <td>2</td>\n",
       "      <td>2013-01-01</td>\n",
       "      <td>0</td>\n",
       "      <td>0</td>\n",
       "      <td>0</td>\n",
       "      <td>0</td>\n",
       "      <td>a</td>\n",
       "      <td>1</td>\n",
       "      <td>a</td>\n",
       "      <td>c</td>\n",
       "      <td>460.0</td>\n",
       "      <td>11.0</td>\n",
       "      <td>2012.0</td>\n",
       "      <td>1</td>\n",
       "      <td>40.0</td>\n",
       "      <td>2014.0</td>\n",
       "      <td>Jan,Apr,Jul,Oct</td>\n",
       "    </tr>\n",
       "    <tr>\n",
       "      <th>361623</th>\n",
       "      <td>396</td>\n",
       "      <td>2</td>\n",
       "      <td>2013-01-01</td>\n",
       "      <td>0</td>\n",
       "      <td>0</td>\n",
       "      <td>0</td>\n",
       "      <td>0</td>\n",
       "      <td>a</td>\n",
       "      <td>1</td>\n",
       "      <td>a</td>\n",
       "      <td>c</td>\n",
       "      <td>23130.0</td>\n",
       "      <td>NaN</td>\n",
       "      <td>NaN</td>\n",
       "      <td>0</td>\n",
       "      <td>NaN</td>\n",
       "      <td>NaN</td>\n",
       "      <td>NaN</td>\n",
       "    </tr>\n",
       "  </tbody>\n",
       "</table>\n",
       "</div>"
      ],
      "text/plain": [
       "         Store  DayOfWeek        Date  Sales  Customers  Open  Promo  \\\n",
       "1017208   1115          2  2013-01-01      0          0     0      0   \n",
       "679363     746          2  2013-01-01      0          0     0      0   \n",
       "155193     171          2  2013-01-01      0          0     0      0   \n",
       "632403     694          2  2013-01-01      0          0     0      0   \n",
       "361623     396          2  2013-01-01      0          0     0      0   \n",
       "\n",
       "        StateHoliday  SchoolHoliday StoreType Assortment  CompetitionDistance  \\\n",
       "1017208            a              1         d          c               5350.0   \n",
       "679363             a              1         d          c               4330.0   \n",
       "155193             a              1         a          a               2640.0   \n",
       "632403             a              1         a          c                460.0   \n",
       "361623             a              1         a          c              23130.0   \n",
       "\n",
       "         CompetitionOpenSinceMonth  CompetitionOpenSinceYear  Promo2  \\\n",
       "1017208                        NaN                       NaN       1   \n",
       "679363                         2.0                    2011.0       1   \n",
       "155193                         NaN                       NaN       0   \n",
       "632403                        11.0                    2012.0       1   \n",
       "361623                         NaN                       NaN       0   \n",
       "\n",
       "         Promo2SinceWeek  Promo2SinceYear     PromoInterval  \n",
       "1017208             22.0           2012.0  Mar,Jun,Sept,Dec  \n",
       "679363              35.0           2011.0  Mar,Jun,Sept,Dec  \n",
       "155193               NaN              NaN               NaN  \n",
       "632403              40.0           2014.0   Jan,Apr,Jul,Oct  \n",
       "361623               NaN              NaN               NaN  "
      ]
     },
     "execution_count": 8,
     "metadata": {},
     "output_type": "execute_result"
    }
   ],
   "source": [
    "full_data.head()"
   ]
  },
  {
   "cell_type": "code",
   "execution_count": 9,
   "metadata": {},
   "outputs": [],
   "source": [
    "# Filter data by nonzero sales\n",
    "full_data = full_data.loc[full_data.Open == 1].sort_values(by='Date')\n",
    "full_train = full_data.loc[full_data.Date < VAL_DATE]\n",
    "full_val = full_data.loc[(full_data.Date >= VAL_DATE) & (full_data.Date < TEST_DATE)]\n",
    "full_test = full_data.loc[(full_data.Date >= TEST_DATE)]"
   ]
  },
  {
   "cell_type": "code",
   "execution_count": 10,
   "metadata": {},
   "outputs": [
    {
     "name": "stderr",
     "output_type": "stream",
     "text": [
      "/home/derek/anaconda3/envs/timeseries/lib/python3.6/site-packages/ipykernel_launcher.py:3: SettingWithCopyWarning: \n",
      "A value is trying to be set on a copy of a slice from a DataFrame.\n",
      "Try using .loc[row_indexer,col_indexer] = value instead\n",
      "\n",
      "See the caveats in the documentation: http://pandas.pydata.org/pandas-docs/stable/indexing.html#indexing-view-versus-copy\n",
      "  This is separate from the ipykernel package so we can avoid doing imports until\n",
      "/home/derek/anaconda3/envs/timeseries/lib/python3.6/site-packages/ipykernel_launcher.py:4: SettingWithCopyWarning: \n",
      "A value is trying to be set on a copy of a slice from a DataFrame.\n",
      "Try using .loc[row_indexer,col_indexer] = value instead\n",
      "\n",
      "See the caveats in the documentation: http://pandas.pydata.org/pandas-docs/stable/indexing.html#indexing-view-versus-copy\n",
      "  after removing the cwd from sys.path.\n",
      "/home/derek/anaconda3/envs/timeseries/lib/python3.6/site-packages/ipykernel_launcher.py:5: SettingWithCopyWarning: \n",
      "A value is trying to be set on a copy of a slice from a DataFrame.\n",
      "Try using .loc[row_indexer,col_indexer] = value instead\n",
      "\n",
      "See the caveats in the documentation: http://pandas.pydata.org/pandas-docs/stable/indexing.html#indexing-view-versus-copy\n",
      "  \"\"\"\n"
     ]
    }
   ],
   "source": [
    "num_variables = 1\n",
    "scaler = MinMaxScaler().fit(full_train.Sales.values.reshape(-1,1))\n",
    "full_train['NormSales'] = scaler.transform(full_train.Sales.values.reshape(-1,1))\n",
    "full_val['NormSales'] = scaler.transform(full_val.Sales.values.reshape(-1,1))\n",
    "full_test['NormSales'] = scaler.transform(full_test.Sales.values.reshape(-1,1))"
   ]
  },
  {
   "cell_type": "code",
   "execution_count": 11,
   "metadata": {},
   "outputs": [
    {
     "data": {
      "image/png": "[encoded data removed]",
      "text/plain": [
       "<Figure size 432x288 with 1 Axes>"
      ]
     },
     "metadata": {
      "needs_background": "light"
     },
     "output_type": "display_data"
    }
   ],
   "source": [
    "locator = mdates.MonthLocator()  # every month\n",
    "\n",
    "# Specify the format - %b gives us Jan, Feb...\n",
    "fmt = mdates.DateFormatter('%b')\n",
    "\n",
    "store_to_plot = 1\n",
    "fig, ax = plt.subplots()\n",
    "\n",
    "ax.plot(full_train.loc[full_train.Store == store_to_plot, 'Date'],full_train.loc[full_train.Store == store_to_plot,'Sales'])\n",
    "plt.tick_params(axis='both', which='major', labelsize=10)\n",
    "X = ax.xaxis\n",
    "X.set_major_locator(locator)\n",
    "\n",
    "# Specify formatter\n",
    "X.set_major_formatter(fmt)\n",
    "plt.show()"
   ]
  },
  {
   "cell_type": "code",
   "execution_count": 12,
   "metadata": {},
   "outputs": [
    {
     "data": {
      "text/plain": [
       "Text(0.5, 1.0, 'Partial Autocorrelation for store 1')"
      ]
     },
     "execution_count": 12,
     "metadata": {},
     "output_type": "execute_result"
    },
    {
     "data": {
      "image/png": "[encoded data removed]",
      "text/plain": [
       "<Figure size 432x288 with 1 Axes>"
      ]
     },
     "metadata": {
      "needs_background": "light"
     },
     "output_type": "display_data"
    }
   ],
   "source": [
    "store_to_plot = 1\n",
    "fig = plot_pacf(full_train.loc[full_train.Store == store_to_plot, 'Sales'],lags=50)\n",
    "plt.title(\"Partial Autocorrelation for store {}\".format(store_to_plot))"
   ]
  },
  {
   "cell_type": "markdown",
   "metadata": {},
   "source": [
    "## Data processing"
   ]
  },
  {
   "cell_type": "code",
   "execution_count": 13,
   "metadata": {},
   "outputs": [],
   "source": [
    "train_window = 12"
   ]
  },
  {
   "cell_type": "code",
   "execution_count": 14,
   "metadata": {},
   "outputs": [],
   "source": [
    "def create_inout_sequences(input_data, tw):\n",
    "    inout_seq = []\n",
    "    L = len(input_data)\n",
    "    for i in range(L-tw):\n",
    "        train_seq = input_data[i:i+tw+1]\n",
    "        inout_seq.append(train_seq)\n",
    "    return inout_seq"
   ]
  },
  {
   "cell_type": "code",
   "execution_count": 15,
   "metadata": {},
   "outputs": [],
   "source": [
    "stores = [1]"
   ]
  },
  {
   "cell_type": "code",
   "execution_count": 16,
   "metadata": {},
   "outputs": [],
   "source": [
    "train_inout_seq = []\n",
    "for store in stores:\n",
    "    this_store = full_train.loc[full_train.Store == store].sort_values(by='Date')\n",
    "    this_store_sales = this_store.NormSales.values.astype(float)\n",
    "    inout_seq = create_inout_sequences(this_store_sales,train_window)\n",
    "    train_inout_seq += inout_seq"
   ]
  },
  {
   "cell_type": "code",
   "execution_count": 17,
   "metadata": {},
   "outputs": [],
   "source": [
    "val_inout_seq = []\n",
    "for store in stores:\n",
    "    this_store = full_val.loc[full_val.Store == store].sort_values(by='Date')\n",
    "    this_store_sales = this_store.NormSales.values.astype(float)\n",
    "    inout_seq = create_inout_sequences(this_store_sales,train_window)\n",
    "    val_inout_seq += inout_seq"
   ]
  },
  {
   "cell_type": "code",
   "execution_count": 18,
   "metadata": {},
   "outputs": [],
   "source": [
    "class SeqDataset(Dataset):\n",
    "    def __init__(self, inout_seq):\n",
    "        super().__init__()\n",
    "\n",
    "        # for each sample: [:-1] is input, [-1] is target\n",
    "        self.sequences = [torch.FloatTensor(i) for i in inout_seq]\n",
    "    \n",
    "    def __getitem__(self, i):\n",
    "        sample = self.sequences[i]\n",
    "        return sample\n",
    "\n",
    "    def __len__(self):\n",
    "        return len(self.sequences)\n",
    "    \n",
    "def batchify(list_minibatch,num_variables=num_variables):\n",
    "    inp_list = [i[:-1].view(-1,num_variables) for i in list_minibatch]\n",
    "    tar_list = [i[-1:] for i in list_minibatch]\n",
    "\n",
    "    inp_tensor = torch.stack(inp_list, dim=1)\n",
    "    tar_tensor = torch.stack(tar_list, dim=0).view(-1)\n",
    "\n",
    "    return inp_tensor, tar_tensor"
   ]
  },
  {
   "cell_type": "code",
   "execution_count": 19,
   "metadata": {},
   "outputs": [],
   "source": [
    "batch_size = 1\n",
    "train_dataset = SeqDataset(train_inout_seq)\n",
    "train_data = DataLoader(train_dataset, batch_size=batch_size, shuffle=True, collate_fn=batchify, drop_last=False)\n",
    "\n",
    "val_dataset = SeqDataset(val_inout_seq)\n",
    "val_data = DataLoader(val_dataset, batch_size=batch_size, shuffle=False, collate_fn = batchify, drop_last=False)"
   ]
  },
  {
   "cell_type": "markdown",
   "metadata": {},
   "source": [
    "## Models"
   ]
  },
  {
   "cell_type": "code",
   "execution_count": 20,
   "metadata": {},
   "outputs": [],
   "source": [
    "class RNN(nn.Module):\n",
    "    def __init__(self, input_size=1, hidden_layers = 2, hidden_layer_size=64, dropout=0.2, output_size=1, batch_size=batch_size):\n",
    "        super().__init__()\n",
    "        self.hidden_layers = hidden_layers\n",
    "        self.input_size = input_size\n",
    "        self.output_size = output_size\n",
    "        self.batch_size = batch_size\n",
    "        self.hidden_layer_size = hidden_layer_size\n",
    "        \n",
    "        self.rnn = nn.RNN(input_size, hidden_layer_size, self.hidden_layers, dropout=dropout)\n",
    "        self.linear = nn.Linear(hidden_layer_size, output_size)\n",
    "\n",
    "    def forward(self, input_seq):\n",
    "        hidden = self.init_hidden()\n",
    "        rnn_out, _ = self.rnn(input_seq, hidden)\n",
    "        predictions = self.linear(rnn_out[-1].view(self.batch_size,-1))\n",
    "        return predictions.view(-1)\n",
    "    \n",
    "    def init_hidden(self):\n",
    "        h0 = Variable(torch.randn(self.hidden_layers, self.batch_size, self.hidden_layer_size) * 0.1)\n",
    "        return h0"
   ]
  },
  {
   "cell_type": "code",
   "execution_count": 21,
   "metadata": {},
   "outputs": [],
   "source": [
    "class LSTM(nn.Module):\n",
    "    def __init__(self, input_size=1, hidden_layers = 2, hidden_layer_size=64, dropout=0.2, output_size=1, batch_size=batch_size):\n",
    "        super().__init__()\n",
    "        self.hidden_layers = hidden_layers\n",
    "        self.input_size = input_size\n",
    "        self.output_size = output_size\n",
    "        self.batch_size = batch_size\n",
    "        self.hidden_layer_size = hidden_layer_size\n",
    "        \n",
    "        self.rnn = nn.LSTM(input_size, hidden_layer_size, self.hidden_layers, dropout=dropout)\n",
    "        self.linear = nn.Linear(hidden_layer_size, output_size)\n",
    "\n",
    "        self.hidden_cell = self.init_hidden()\n",
    "\n",
    "    def forward(self, input_seq):\n",
    "        hidden = self.init_hidden()\n",
    "        rnn_out, _ = self.rnn(input_seq, hidden)\n",
    "        predictions = self.linear(rnn_out[-1].view(self.batch_size,-1))\n",
    "        return predictions.view(-1)\n",
    "    \n",
    "    def init_hidden(self):\n",
    "        h0 = Variable(torch.randn(self.hidden_layers, self.batch_size, self.hidden_layer_size) * 0.1)\n",
    "        c0 = Variable(torch.randn(self.hidden_layers, self.batch_size, self.hidden_layer_size) * 0.1)\n",
    "        return h0, c0"
   ]
  },
  {
   "cell_type": "code",
   "execution_count": 22,
   "metadata": {},
   "outputs": [],
   "source": [
    "def evaluate(model, val_data, loss_function, scaler=None, model_type = 'rnn', output_size=1):\n",
    "    model.eval()\n",
    "    val_cache = []\n",
    "    for i, batch in enumerate(val_data):\n",
    "        with torch.no_grad():\n",
    "            seq, labels = batch\n",
    "            seq = seq.to(current_device)\n",
    "            labels = labels.to(current_device)\n",
    "\n",
    "            y_pred = model(seq)\n",
    "            if scaler is not None:\n",
    "\n",
    "                y_pred = scaler.inverse_transform(y_pred.cpu().numpy().reshape(output_size,-1))\n",
    "                labels = scaler.inverse_transform(labels.cpu().numpy().reshape(output_size,-1))\n",
    "                loss = mean_squared_error(y_pred,labels)\n",
    "                val_cache.append(loss)\n",
    "            else:\n",
    "                single_loss = loss_function(y_pred, labels)\n",
    "                val_cache.append(single_loss.item())\n",
    "    avg_val = np.mean(val_cache)\n",
    "    return avg_val"
   ]
  },
  {
   "cell_type": "code",
   "execution_count": 23,
   "metadata": {},
   "outputs": [],
   "source": [
    "def train(model, train_data, val_data, learning_rate = 0.001, epochs = 2, train_steps = 1600, train_log_steps = 200, val_log_steps = 800, model_type = 'rnn', scaler = None):\n",
    "    loss_function = nn.MSELoss()\n",
    "    optimizer = torch.optim.Adam(model.parameters(), lr=learning_rate)\n",
    "    \n",
    "    avg_train_cache = []\n",
    "    avg_val_cache = []\n",
    "    for epoch in range(epochs):\n",
    "        model.train()\n",
    "        train_cache = []\n",
    "        for i, batch in enumerate(train_data):\n",
    "            if i < train_steps:\n",
    "                seq, labels = batch\n",
    "                seq = seq.to(current_device)\n",
    "                labels = labels.to(current_device)\n",
    "                optimizer.zero_grad()\n",
    "                \n",
    "                y_pred = model(seq)\n",
    "\n",
    "                single_loss = loss_function(y_pred, labels)\n",
    "                train_cache.append(single_loss.item())\n",
    "                single_loss.backward()\n",
    "                optimizer.step()\n",
    "\n",
    "                if i % train_log_steps == 0 and i >0:\n",
    "                    avg_train_loss = np.mean(train_cache)\n",
    "                    avg_train_cache.append(avg_train_loss)\n",
    "\n",
    "                    print(\"Training loss at iteration {}: {:.5}\".format(i,avg_train_loss))\n",
    "                    train_cache = []\n",
    "\n",
    "                if i % val_log_steps == 0 and i > 0:\n",
    "                    avg_val = evaluate(model, val_data, loss_function, scaler, model_type = model_type, output_size = model.output_size)\n",
    "                    avg_val_cache.append(avg_val)\n",
    "                    print(\"==========Val loss at iteration {}: {:.7}\".format(i,avg_val))\n",
    "                    model.train()\n",
    "        if len(avg_train_cache) > 0:\n",
    "            print(f'epoch: {epoch:3} loss: {avg_train_cache[-1]:10.8f}')\n",
    "    if len(avg_train_cache) > 0:\n",
    "        print(f'epoch: {epoch:3} loss: {avg_train_cache[-1]:10.10f}')\n",
    "    return model, avg_train_cache, avg_val_cache"
   ]
  },
  {
   "cell_type": "markdown",
   "metadata": {},
   "source": [
    "#### Example training and testing"
   ]
  },
  {
   "cell_type": "code",
   "execution_count": 24,
   "metadata": {},
   "outputs": [
    {
     "name": "stdout",
     "output_type": "stream",
     "text": [
      "Training loss at iteration 200: 0.0023052\n",
      "Training loss at iteration 400: 0.00096445\n",
      "Training loss at iteration 600: 0.00068257\n",
      "epoch:   0 loss: 0.00068257\n",
      "Training loss at iteration 200: 0.00085681\n",
      "Training loss at iteration 400: 0.00088477\n",
      "Training loss at iteration 600: 0.00066989\n",
      "epoch:   1 loss: 0.00066989\n",
      "Training loss at iteration 200: 0.00065869\n",
      "Training loss at iteration 400: 0.00067015\n",
      "Training loss at iteration 600: 0.00051792\n",
      "epoch:   2 loss: 0.00051792\n",
      "Training loss at iteration 200: 0.00052851\n",
      "Training loss at iteration 400: 0.00051079\n",
      "Training loss at iteration 600: 0.00070202\n",
      "epoch:   3 loss: 0.00070202\n",
      "Training loss at iteration 200: 0.00051775\n",
      "Training loss at iteration 400: 0.0005555\n",
      "Training loss at iteration 600: 0.00054974\n",
      "epoch:   4 loss: 0.00054974\n",
      "Training loss at iteration 200: 0.00049887\n",
      "Training loss at iteration 400: 0.00052327\n",
      "Training loss at iteration 600: 0.00055821\n",
      "epoch:   5 loss: 0.00055821\n",
      "Training loss at iteration 200: 0.00063906\n",
      "Training loss at iteration 400: 0.00042918\n",
      "Training loss at iteration 600: 0.00046979\n",
      "epoch:   6 loss: 0.00046979\n",
      "Training loss at iteration 200: 0.00041938\n",
      "Training loss at iteration 400: 0.00044992\n",
      "Training loss at iteration 600: 0.00044529\n",
      "epoch:   7 loss: 0.00044529\n",
      "Training loss at iteration 200: 0.00035599\n",
      "Training loss at iteration 400: 0.00046453\n",
      "Training loss at iteration 600: 0.00051158\n",
      "epoch:   8 loss: 0.00051158\n",
      "Training loss at iteration 200: 0.00054379\n",
      "Training loss at iteration 400: 0.00028048\n",
      "Training loss at iteration 600: 0.00047996\n",
      "epoch:   9 loss: 0.00047996\n",
      "epoch:   9 loss: 0.0004799639\n"
     ]
    }
   ],
   "source": [
    "model = RNN(hidden_layers = 2, hidden_layer_size=32, dropout=0.1, output_size = 1)\n",
    "model.to(current_device)\n",
    "model, avg_train_cache, avg_val_cache = train(model, train_data, val_data, learning_rate = 0.0005, epochs=10)"
   ]
  },
  {
   "cell_type": "code",
   "execution_count": 25,
   "metadata": {},
   "outputs": [
    {
     "data": {
      "text/plain": [
       "Text(0.5, 1.0, 'Learning curves')"
      ]
     },
     "execution_count": 25,
     "metadata": {},
     "output_type": "execute_result"
    },
    {
     "data": {
      "image/png": "[encoded data removed]",
      "text/plain": [
       "<Figure size 432x288 with 1 Axes>"
      ]
     },
     "metadata": {
      "needs_background": "light"
     },
     "output_type": "display_data"
    }
   ],
   "source": [
    "plt.plot(np.arange(len(avg_train_cache)) * 100, avg_train_cache,label='Avg Train')\n",
    "plt.plot(np.arange(len(avg_val_cache))*300, avg_val_cache,label='Val')\n",
    "plt.title('Learning curves')"
   ]
  },
  {
   "cell_type": "code",
   "execution_count": 26,
   "metadata": {},
   "outputs": [],
   "source": [
    "def rmse(actual, predicted):\n",
    "    return np.sqrt(mean_squared_error(actual, predicted))\n",
    "\n",
    "def rmspe(actual, predicted):\n",
    "    mask = actual != 0\n",
    "    return np.sqrt(np.nanmean(((actual[mask]-predicted[mask])/actual[mask])**2))"
   ]
  },
  {
   "cell_type": "code",
   "execution_count": 35,
   "metadata": {},
   "outputs": [],
   "source": [
    "def full_predict(model, future_pred_window, train_window, test_actuals, test_sales, test_otherinputs = None, num_variables=1, model_type = 'rnn'):\n",
    "    model.eval()\n",
    "\n",
    "    for i in range(future_pred_window):\n",
    "        sales = test_sales[i:i+train_window]\n",
    "        seq = torch.FloatTensor(sales).view(train_window,1,num_variables).to(current_device)\n",
    "        with torch.no_grad():\n",
    "            test_sales = np.append(test_sales,model(seq).item()).reshape(-1,1)\n",
    "    \n",
    "    # add column for scaling\n",
    "    test_sales_for_scaling = np.zeros((future_pred_window,num_variables))\n",
    "    test_sales_for_scaling[:,0] = test_sales[train_window:].reshape(-1)\n",
    "    actual_predictions = scaler.inverse_transform(test_sales_for_scaling)[:,0]\n",
    "    check = test_actuals[:future_pred_window,0]\n",
    "    \n",
    "    \n",
    "    return actual_predictions, check, rmse(check, actual_predictions), rmspe(check, actual_predictions)"
   ]
  },
  {
   "cell_type": "code",
   "execution_count": 36,
   "metadata": {},
   "outputs": [],
   "source": [
    "train_window=12\n",
    "test_sales = full_train.loc[full_train.Store == 1,'NormSales'].values[-train_window:].reshape(-1,1)\n",
    "test_actuals = full_val.loc[full_val.Store == 1, 'Sales'].values.reshape(-1,1)\n",
    "future_pred_window = len(test_actuals)"
   ]
  },
  {
   "cell_type": "code",
   "execution_count": 38,
   "metadata": {},
   "outputs": [],
   "source": [
    "actual_predictions, test_actuals, rmse_error, rmspe_error = full_predict(model,future_pred_window, train_window, test_actuals, test_sales, num_variables)"
   ]
  },
  {
   "cell_type": "code",
   "execution_count": 39,
   "metadata": {},
   "outputs": [
    {
     "data": {
      "image/png": "[encoded data removed]",
      "text/plain": [
       "<Figure size 432x288 with 1 Axes>"
      ]
     },
     "metadata": {
      "needs_background": "light"
     },
     "output_type": "display_data"
    }
   ],
   "source": [
    "plt.plot(range(future_pred_window),test_actuals, label = 'Actuals')\n",
    "plt.plot(range(future_pred_window), actual_predictions, label = 'Preds')\n",
    "plt.legend()\n",
    "plt.show()"
   ]
  },
  {
   "cell_type": "code",
   "execution_count": 43,
   "metadata": {},
   "outputs": [],
   "source": [
    "stores = [1,2,3,4,5,13,15,18,21,85,259,262]\n",
    "full_errors = []\n",
    "for store in stores:\n",
    "    test_sales = full_train.loc[full_train.Store == store,'NormSales'].values[-train_window:].reshape(-1,1)\n",
    "\n",
    "    test_actuals = full_val.loc[full_val.Store == store, 'Sales'].values.reshape(-1,1)\n",
    "    future_pred_window = len(test_actuals)\n",
    "    actual_predictions, test_actuals, rmse_error, rmspe_error = full_predict(model,future_pred_window, train_window, test_actuals, test_sales, num_variables)\n",
    "    full_errors.append(rmspe_error)"
   ]
  },
  {
   "cell_type": "code",
   "execution_count": 44,
   "metadata": {},
   "outputs": [
    {
     "data": {
      "text/plain": [
       "0.40693582720471549"
      ]
     },
     "execution_count": 44,
     "metadata": {},
     "output_type": "execute_result"
    }
   ],
   "source": [
    "np.mean(full_errors)"
   ]
  },
  {
   "cell_type": "code",
   "execution_count": 45,
   "metadata": {},
   "outputs": [
    {
     "data": {
      "text/plain": [
       "array([ 10061.80304438,   5028.74410886,   3320.93219422,   3489.36507098,\n",
       "         2982.97590546,   3507.47891875,   4405.77009241,   5163.69351524,\n",
       "         5530.44224191,   5612.21968961,   5483.5492273 ,   5207.67035788,\n",
       "         4973.37376964,   4756.75452657,   4694.07183133,   4664.17501013,\n",
       "         4685.62681888,   4744.45455866,   4787.92306186,   4848.22071618,\n",
       "         4861.94414991,   4872.27134538,   4847.11979491,   4815.91865896,\n",
       "         4787.00966649,   4813.89568727,   4807.38132606,   4771.94527833,\n",
       "         4777.39160742,   4804.51246832,   4809.63509886,   4819.29066311,\n",
       "         4830.42681645,   4816.971112  ,   4845.468413  ,   4821.44172941,\n",
       "         4837.27526225,   4794.96884261,   4836.54766177,   4785.51638333,\n",
       "         4797.21453737,   4792.76642306,   4815.95385613])"
      ]
     },
     "execution_count": 45,
     "metadata": {},
     "output_type": "execute_result"
    }
   ],
   "source": [
    "actual_predictions"
   ]
  },
  {
   "cell_type": "markdown",
   "metadata": {},
   "source": [
    "## Hyperparameter tuning"
   ]
  },
  {
   "cell_type": "code",
   "execution_count": 47,
   "metadata": {},
   "outputs": [],
   "source": [
    "stores = [1,2,3,4,5,13,15,18,21,85,259,262]"
   ]
  },
  {
   "cell_type": "code",
   "execution_count": 48,
   "metadata": {},
   "outputs": [],
   "source": [
    "dropouts = [0, 0.1,0.2]\n",
    "hidden_layer_sizes = [16,32,64]\n",
    "learning_rates = [0.00005, 0.0005, 0.005, 0.01]\n",
    "training_windows = [4,12]\n",
    "train_steps = [4800]\n",
    "rnn_options = {'best_val':10**32,\n",
    "           'best_tw':0,\n",
    "           'best_lr':0,\n",
    "           'best_size':0,\n",
    "           'best_dropout':0}\n",
    "rnn_history = pd.DataFrame(columns=['dropout','hidden_layer_size','learning_rate','training_window','train_steps','rmse'])"
   ]
  },
  {
   "cell_type": "code",
   "execution_count": null,
   "metadata": {},
   "outputs": [],
   "source": [
    "for tw in training_windows:\n",
    "    train_inout_seq = []\n",
    "    for store in stores:\n",
    "        this_store = full_train.loc[full_train.Store == store].sort_values(by='Date')\n",
    "        this_store_sales = this_store.NormSales.values.astype(float)\n",
    "        inout_seq = create_inout_sequences(this_store_sales,tw)\n",
    "        train_inout_seq += inout_seq\n",
    "        \n",
    "    val_inout_seq = []\n",
    "    for store in stores:\n",
    "        this_store = full_val.loc[full_val.Store == store].sort_values(by='Date')\n",
    "        this_store_sales = this_store.NormSales.values.astype(float)\n",
    "        inout_seq = create_inout_sequences(this_store_sales,train_window)\n",
    "        val_inout_seq += inout_seq\n",
    "        \n",
    "    batch_size = 1\n",
    "    train_dataset = SeqDataset(train_inout_seq)\n",
    "    train_data = DataLoader(train_dataset, batch_size=batch_size, shuffle=True, collate_fn=batchify, drop_last=False)\n",
    "\n",
    "    val_dataset = SeqDataset(val_inout_seq)\n",
    "    val_data = DataLoader(val_dataset, batch_size=batch_size, shuffle=False, collate_fn = batchify, drop_last=False)\n",
    "        \n",
    "    for learning_rate in learning_rates:\n",
    "        for size in hidden_layer_sizes:\n",
    "            for dropout in dropouts:\n",
    "                for train_step in train_steps:\n",
    "                    print(\"Running model with training window size: {}\\n learning rate: {}\\n hidden size: {}\\n dropout: {}\\n\\n\".format(tw,learning_rate, size, dropout))\n",
    "                    model = RNN(hidden_layers = 2, hidden_layer_size=size, dropout=dropout)\n",
    "                    model.to(current_device)\n",
    "                    loss_function = nn.MSELoss()\n",
    "                    model, avg_train_cache, avg_val_cache = train(model,train_data, val_data, learning_rate = learning_rate, epochs=1, train_steps = train_step, model_type = 'rnn', scaler = scaler)\n",
    "\n",
    "                    avg_val = evaluate(model, val_data, loss_function, scaler, model_type = 'rnn')\n",
    "                    \n",
    "                    current_options = pd.DataFrame([[dropout, size, learning_rate, tw, train_step, np.sqrt(avg_val)]], columns=['dropout','hidden_layer_size','learning_rate','training_window','train_steps','rmse'])\n",
    "                    rnn_history = rnn_history.append(current_options,ignore_index=True)\n",
    "\n",
    "                    print(\"======================The validation RMSE is : {:.7}\".format(np.sqrt(avg_val)))\n",
    "\n",
    "                    if np.sqrt(avg_val) < rnn_options['best_val'] :\n",
    "                        rnn_options['best_val'] = np.sqrt(avg_val)\n",
    "                        rnn_options['best_tw'] = tw\n",
    "                        rnn_options['best_lr'] = learning_rate\n",
    "                        rnn_options['best_size'] = size\n",
    "                        rnn_options['best_dropout'] = dropout\n",
    "                        rnn_options['best_trainsteps'] = train_step\n",
    "                        torch.save(model, 'best_rnn.pt')\n",
    "\n"
   ]
  },
  {
   "cell_type": "code",
   "execution_count": 42,
   "metadata": {},
   "outputs": [
    {
     "data": {
      "text/plain": [
       "{'best_val': 1721.4926,\n",
       " 'best_tw': 12,\n",
       " 'best_lr': 0.0005,\n",
       " 'best_size': 32,\n",
       " 'best_dropout': 0.1,\n",
       " 'best_trainsteps': 4800}"
      ]
     },
     "execution_count": 42,
     "metadata": {},
     "output_type": "execute_result"
    }
   ],
   "source": [
    "pkl.dump( rnn_options, open( \"rnn_options.p\", \"wb\" ) )\n",
    "pkl.dump( rnn_history, open( \"rnn_exogenous_history.p\", \"wb\" ) )\n",
    "\n",
    "rnn_options"
   ]
  },
  {
   "cell_type": "code",
   "execution_count": 43,
   "metadata": {},
   "outputs": [],
   "source": [
    "dropouts = [0, 0.1,0.2]\n",
    "hidden_layer_sizes = [16,32,64]\n",
    "learning_rates = [0.00005, 0.0005, 0.005, 0.01]\n",
    "training_windows = [4,12]\n",
    "train_steps = [4800]\n",
    "lstm_options = {'best_val':10**32,\n",
    "           'best_tw':0,\n",
    "           'best_lr':0,\n",
    "           'best_size':0,\n",
    "           'best_dropout':0}\n",
    "lstm_history = pd.DataFrame(columns=['dropout','hidden_layer_size','learning_rate','training_window','train_steps','rmse'])"
   ]
  },
  {
   "cell_type": "code",
   "execution_count": null,
   "metadata": {},
   "outputs": [],
   "source": [
    "for tw in training_windows:\n",
    "    train_inout_seq = []\n",
    "    \n",
    "    for store in stores:\n",
    "        this_store = full_train.loc[full_train.Store == store].sort_values(by='Date')\n",
    "        this_store_sales = this_store.NormSales.values.astype(float)\n",
    "        inout_seq = create_inout_sequences(this_store_sales,tw)\n",
    "        train_inout_seq += inout_seq\n",
    "        \n",
    "    val_inout_seq = []\n",
    "    for store in stores:\n",
    "        this_store = full_val.loc[full_val.Store == store].sort_values(by='Date')\n",
    "        this_store_sales = this_store.NormSales.values.astype(float)\n",
    "        inout_seq = create_inout_sequences(this_store_sales,train_window)\n",
    "        val_inout_seq += inout_seq\n",
    "        \n",
    "    batch_size = 1\n",
    "    train_dataset = SeqDataset(train_inout_seq)\n",
    "    train_data = DataLoader(train_dataset, batch_size=batch_size, shuffle=True, collate_fn=batchify, drop_last=False)\n",
    "\n",
    "    val_dataset = SeqDataset(val_inout_seq)\n",
    "    val_data = DataLoader(val_dataset, batch_size=batch_size, shuffle=False, collate_fn = batchify, drop_last=False)\n",
    "        \n",
    "    for learning_rate in learning_rates:\n",
    "        for size in hidden_layer_sizes:\n",
    "            for dropout in dropouts:\n",
    "                for train_step in train_steps:\n",
    "                    print(\"Running model with training window size: {}\\n learning rate: {}\\n hidden size: {}\\n dropout: {}\\n\\n\".format(tw,learning_rate, size, dropout))\n",
    "                    model = LSTM(hidden_layers = 2, hidden_layer_size=size, dropout=dropout)\n",
    "                    model.to(current_device)\n",
    "                    model, avg_train_cache, avg_val_cache = train(model,train_data, val_data, learning_rate = learning_rate, epochs=1, train_steps = train_step, model_type='lstm', scaler = scaler)\n",
    "\n",
    "                    avg_val = evaluate(model, val_data, loss_function, scaler, model_type='lstm')\n",
    "                    \n",
    "                    current_options = pd.DataFrame([[dropout, size, learning_rate, tw, train_step, np.sqrt(avg_val)]], columns=['dropout','hidden_layer_size','learning_rate','training_window','train_steps','rmse'])\n",
    "                    lstm_history = lstm_history.append(current_options,ignore_index=True)\n",
    "                    \n",
    "                    print(\"======================The validation RMSE is : {:.5}\".format(np.sqrt(avg_val)))\n",
    "\n",
    "                    if np.sqrt(avg_val) < lstm_options['best_val'] :\n",
    "                        lstm_options['best_val'] = np.sqrt(avg_val)\n",
    "                        lstm_options['best_tw'] = tw\n",
    "                        lstm_options['best_lr'] = learning_rate\n",
    "                        lstm_options['best_size'] = size\n",
    "                        lstm_options['best_dropout'] = dropout\n",
    "                        lstm_options['best_trainsteps'] = train_step\n",
    "\n",
    "                        torch.save(model, 'best_lstm.pt')\n",
    "\n"
   ]
  },
  {
   "cell_type": "code",
   "execution_count": 45,
   "metadata": {},
   "outputs": [
    {
     "data": {
      "text/plain": [
       "{'best_val': 1712.8219,\n",
       " 'best_tw': 4,\n",
       " 'best_lr': 0.01,\n",
       " 'best_size': 32,\n",
       " 'best_dropout': 0.1,\n",
       " 'best_trainsteps': 4800}"
      ]
     },
     "execution_count": 45,
     "metadata": {},
     "output_type": "execute_result"
    }
   ],
   "source": [
    "pkl.dump( lstm_options, open( \"lstm_options.p\", \"wb\" ) )\n",
    "pkl.dump( lstm_history, open( \"lstm_exogenous_history.p\", \"wb\" ) )\n",
    "lstm_options"
   ]
  },
  {
   "cell_type": "code",
   "execution_count": 30,
   "metadata": {},
   "outputs": [
    {
     "name": "stdout",
     "output_type": "stream",
     "text": [
      "Running model with training window size: 12\n",
      " learning rate: 0.005\n",
      " hidden size: 16\n",
      " dropout: 0\n",
      "\n",
      "\n",
      "Training loss at iteration 200: 0.0063221\n",
      "Training loss at iteration 400: 0.0058182\n",
      "Training loss at iteration 600: 0.0037765\n",
      "Training loss at iteration 800: 0.0067444\n",
      "==========Val loss at iteration 800: 6.245566e+06\n",
      "Training loss at iteration 1000: 0.0028978\n",
      "Training loss at iteration 1200: 0.0045507\n",
      "Training loss at iteration 1400: 0.0018833\n",
      "Training loss at iteration 1600: 0.0022169\n",
      "==========Val loss at iteration 1600: 3.513491e+06\n",
      "Training loss at iteration 1800: 0.003499\n",
      "Training loss at iteration 2000: 0.0023348\n",
      "Training loss at iteration 2200: 0.002245\n",
      "Training loss at iteration 2400: 0.0027199\n",
      "==========Val loss at iteration 2400: 3.452738e+06\n",
      "Training loss at iteration 2600: 0.0023393\n",
      "Training loss at iteration 2800: 0.004636\n",
      "Training loss at iteration 3000: 0.002513\n",
      "Training loss at iteration 3200: 0.0035952\n",
      "==========Val loss at iteration 3200: 3.57785e+06\n",
      "Training loss at iteration 3400: 0.0021963\n",
      "Training loss at iteration 3600: 0.0038937\n",
      "Training loss at iteration 3800: 0.0023909\n",
      "epoch:   0 loss: 0.00239094\n",
      "epoch:   0 loss: 0.0023909381\n",
      "======================The validation RMSE is : 1664.2\n"
     ]
    },
    {
     "name": "stderr",
     "output_type": "stream",
     "text": [
      "/home/derek/anaconda3/envs/timeseries/lib/python3.6/site-packages/torch/serialization.py:292: UserWarning: Couldn't retrieve source code for container of type LSTM. It won't be checked for correctness upon loading.\n",
      "  \"type \" + obj.__name__ + \". It won't be checked \"\n",
      "/home/derek/anaconda3/envs/timeseries/lib/python3.6/site-packages/torch/serialization.py:292: UserWarning: Couldn't retrieve source code for container of type Linear. It won't be checked for correctness upon loading.\n",
      "  \"type \" + obj.__name__ + \". It won't be checked \"\n"
     ]
    }
   ],
   "source": [
    "# tw = 12\n",
    "# learning_rate = 0.005\n",
    "# size = 16\n",
    "# dropout = 0.1\n",
    "# train_steps = 4000\n",
    "# train_inout_seq = []\n",
    "\n",
    "# loss_function = nn.MSELoss()\n",
    "\n",
    "# for store in stores:\n",
    "#     this_store = full_train.loc[full_train.Store == store].sort_values(by='Date')\n",
    "#     this_store_sales = this_store.NormSales.values.astype(float)\n",
    "#     inout_seq = create_inout_sequences(this_store_sales,tw)\n",
    "#     train_inout_seq += inout_seq\n",
    "\n",
    "# val_inout_seq = []\n",
    "# for store in stores:\n",
    "#     this_store = full_val.loc[full_val.Store == store].sort_values(by='Date')\n",
    "#     this_store_sales = this_store.NormSales.values.astype(float)\n",
    "#     inout_seq = create_inout_sequences(this_store_sales,train_window)\n",
    "#     val_inout_seq += inout_seq\n",
    "\n",
    "# batch_size = 1\n",
    "# train_dataset = SeqDataset(train_inout_seq)\n",
    "# train_data = DataLoader(train_dataset, batch_size=batch_size, shuffle=True, collate_fn=batchify, drop_last=False)\n",
    "\n",
    "# val_dataset = SeqDataset(val_inout_seq)\n",
    "# val_data = DataLoader(val_dataset, batch_size=batch_size, shuffle=False, collate_fn = batchify, drop_last=False)\n",
    "\n",
    "\n",
    "# print(\"Running model with training window size: {}\\n learning rate: {}\\n hidden size: {}\\n dropout: {}\\n\\n\".format(tw,learning_rate, size, dropout))\n",
    "# model = LSTM(hidden_layers = 2, hidden_layer_size=size, dropout=dropout)\n",
    "# model.to(current_device)\n",
    "# model, avg_train_cache, avg_val_cache = train(model,train_data, val_data, learning_rate = learning_rate, epochs=1, train_steps = train_steps, model_type='lstm', scaler = scaler)\n",
    "\n",
    "# avg_val = evaluate(model, val_data, loss_function, scaler, model_type='lstm')\n",
    "\n",
    "# print(\"======================The validation RMSE is : {:.5}\".format(np.sqrt(avg_val)))\n",
    "# torch.save(model, 'best_lstm.pt')\n",
    "\n"
   ]
  },
  {
   "cell_type": "markdown",
   "metadata": {},
   "source": [
    "# Evaluation"
   ]
  },
  {
   "cell_type": "code",
   "execution_count": 49,
   "metadata": {},
   "outputs": [],
   "source": [
    "def full_predict(model, future_pred_window, train_window, test_actuals, test_sales, test_otherinputs = None, num_variables=1, model_type = 'rnn'):\n",
    "    model.eval()\n",
    "\n",
    "    for i in range(future_pred_window):\n",
    "        sales = test_sales[i:i+train_window]\n",
    "        seq = torch.FloatTensor(sales).view(train_window,1,num_variables).to(current_device)\n",
    "        with torch.no_grad():\n",
    "            test_sales = np.append(test_sales,model(seq).item()).reshape(-1,1)\n",
    "    \n",
    "    # add column for scaling\n",
    "    test_sales_for_scaling = np.zeros((future_pred_window,num_variables))\n",
    "    test_sales_for_scaling[:,0] = test_sales[train_window:].reshape(-1)\n",
    "    actual_predictions = scaler.inverse_transform(test_sales_for_scaling)[:,0]\n",
    "    check = test_actuals[:future_pred_window,0]\n",
    "    \n",
    "    \n",
    "    return actual_predictions, check, rmse(check, actual_predictions), rmspe(check, actual_predictions)"
   ]
  },
  {
   "cell_type": "code",
   "execution_count": 50,
   "metadata": {},
   "outputs": [],
   "source": [
    "def onestep_predict(model, future_pred_window, train_window, test_actuals, test_sales, test_otherinputs = None, num_variables=1, model_type = 'rnn'):\n",
    "    model.eval()\n",
    "    one_step_predictions = []\n",
    "    for i in range(future_pred_window):\n",
    "        sales = test_sales[i:i+train_window]\n",
    "        seq = torch.FloatTensor(sales).view(train_window,1,num_variables).to(current_device)\n",
    "        with torch.no_grad():\n",
    "            one_step_predictions.append(model(seq).item())\n",
    "    one_step_predictions = np.array(one_step_predictions).reshape(-1,1)\n",
    "    \n",
    "    # add column for scaling\n",
    "    test_sales_for_scaling = np.zeros((future_pred_window,num_variables))\n",
    "    test_sales_for_scaling[:,0] = one_step_predictions.reshape(-1)\n",
    "    actual_predictions = scaler.inverse_transform(test_sales_for_scaling)[:,0]\n",
    "    check = test_actuals[:future_pred_window,0]\n",
    "    \n",
    "    \n",
    "    return actual_predictions, check, rmse(check, actual_predictions), rmspe(check, actual_predictions)"
   ]
  },
  {
   "cell_type": "markdown",
   "metadata": {},
   "source": [
    "### RNN"
   ]
  },
  {
   "cell_type": "code",
   "execution_count": 52,
   "metadata": {},
   "outputs": [
    {
     "data": {
      "text/plain": [
       "{'best_val': 1721.4926,\n",
       " 'best_tw': 12,\n",
       " 'best_lr': 0.0005,\n",
       " 'best_size': 32,\n",
       " 'best_dropout': 0.1,\n",
       " 'best_trainsteps': 4800}"
      ]
     },
     "execution_count": 52,
     "metadata": {},
     "output_type": "execute_result"
    }
   ],
   "source": [
    "rnn_options = pkl.load( open( \"rnn_options.p\", \"rb\" ) )\n",
    "model = torch.load('best_rnn.pt')\n",
    "\n",
    "loss_function = nn.MSELoss()\n",
    "tw = rnn_options['best_tw']\n",
    "rnn_options"
   ]
  },
  {
   "cell_type": "code",
   "execution_count": 53,
   "metadata": {},
   "outputs": [
    {
     "name": "stdout",
     "output_type": "stream",
     "text": [
      "Plotting Store 21\n",
      "Future prediction window: 34\n"
     ]
    }
   ],
   "source": [
    "stores = [1,2,3,4,5,13,15,18,21,85,259,262]\n",
    "store_to_plot = np.random.choice(stores,1)[0]\n",
    "print(\"Plotting Store {}\".format(store_to_plot))\n",
    "\n",
    "future_pred_window = len(full_val.loc[full_val.Store == store_to_plot, 'NormSales'])\n",
    "print(\"Future prediction window: {}\".format(future_pred_window))\n",
    "\n",
    "initial_test_sales = full_train.loc[full_train.Store == store_to_plot,'NormSales'].values[-tw:].reshape(-1,1)\n",
    "test_actuals = full_val.loc[full_val.Store == store_to_plot, 'NormSales'].values[:future_pred_window].reshape(-1,1)\n",
    "test_sales = np.append(initial_test_sales, test_actuals)\n",
    "test_actuals = full_val.loc[full_val.Store == store_to_plot, 'Sales'].values[:future_pred_window].reshape(-1,1)"
   ]
  },
  {
   "cell_type": "code",
   "execution_count": 54,
   "metadata": {},
   "outputs": [],
   "source": [
    "actual_predictions, check, rmse_error, rmspe_error = onestep_predict(model, future_pred_window, tw, test_actuals, test_sales, model_type = 'lstm')"
   ]
  },
  {
   "cell_type": "code",
   "execution_count": 55,
   "metadata": {},
   "outputs": [
    {
     "data": {
      "text/plain": [
       "array([ 5431.54685321,  6101.77018347,  6487.34016329,  4922.49135792,\n",
       "        5166.99916407,  5535.79394254,  6221.11743513,  5659.58757749,\n",
       "        6482.11424926,  7267.81718165,  6498.08799377,  6042.92513362,\n",
       "        6649.89280489,  6129.75597152,  6176.7061094 ,  5768.15526351,\n",
       "        4429.74398024,  5172.11602458,  5939.2862052 ,  7435.50399384,\n",
       "        7819.36546847,  7476.04247701,  7375.46454826,  6074.74337402,\n",
       "        4661.33788754,  4743.76417485,  3923.09660599,  4593.65488635,\n",
       "        5051.17278329,  6219.71127939,  8751.41649684,  8119.64809278,\n",
       "        6378.92769101,  6431.88211966])"
      ]
     },
     "execution_count": 55,
     "metadata": {},
     "output_type": "execute_result"
    }
   ],
   "source": [
    "actual_predictions"
   ]
  },
  {
   "cell_type": "code",
   "execution_count": 56,
   "metadata": {},
   "outputs": [
    {
     "name": "stdout",
     "output_type": "stream",
     "text": [
      "RMSPE errror: 0.317917\n",
      "RMSE errror: 1482.88\n"
     ]
    },
    {
     "data": {
      "image/png": "[encoded data removed]",
      "text/plain": [
       "<Figure size 432x288 with 1 Axes>"
      ]
     },
     "metadata": {
      "needs_background": "light"
     },
     "output_type": "display_data"
    }
   ],
   "source": [
    "plt.plot(np.arange(len(actual_predictions)), actual_predictions)\n",
    "plt.plot(np.arange(len(actual_predictions)), check)\n",
    "print(\"RMSPE errror: {:.6}\".format(rmspe_error))\n",
    "print(\"RMSE errror: {:.6}\".format(rmse_error))"
   ]
  },
  {
   "cell_type": "code",
   "execution_count": 57,
   "metadata": {},
   "outputs": [],
   "source": [
    "test_sales = full_train.loc[full_train.Store == store_to_plot,'NormSales'].values[-tw:].reshape(-1,1)\n",
    "test_actuals = full_val.loc[full_val.Store == store_to_plot, 'Sales'].values[:future_pred_window].reshape(-1,1)\n",
    "actual_predictions, check, rmse_error, mape_error = full_predict(model, future_pred_window, train_window, test_actuals, test_sales, num_variables, model_type='lstm')"
   ]
  },
  {
   "cell_type": "code",
   "execution_count": 58,
   "metadata": {},
   "outputs": [
    {
     "data": {
      "image/png": "[encoded data removed]",
      "text/plain": [
       "<Figure size 432x288 with 1 Axes>"
      ]
     },
     "metadata": {
      "needs_background": "light"
     },
     "output_type": "display_data"
    },
    {
     "name": "stdout",
     "output_type": "stream",
     "text": [
      "MAPE errror: 0.56532\n",
      "RMSE errror: 2238.08\n"
     ]
    }
   ],
   "source": [
    "plt.plot(range(future_pred_window), actual_predictions, label = 'Preds')\n",
    "plt.plot(range(future_pred_window),check, label = 'Actuals')\n",
    "plt.legend()\n",
    "plt.show()\n",
    "print(\"MAPE errror: {:.6}\".format(mape_error))\n",
    "print(\"RMSE errror: {:.6}\".format(rmse_error))"
   ]
  },
  {
   "cell_type": "code",
   "execution_count": 60,
   "metadata": {},
   "outputs": [
    {
     "name": "stdout",
     "output_type": "stream",
     "text": [
      "Average RMSE error: 3394.1\n",
      "Average RMSPE error: 0.449943\n"
     ]
    }
   ],
   "source": [
    "full_rmse_errors = []\n",
    "full_rmspe_errors = []\n",
    "for store in stores:\n",
    "    test_sales = full_train.loc[full_train.Store == store,'NormSales'].values[-tw:].reshape(-1,1)\n",
    "\n",
    "    test_actuals = full_val.loc[full_val.Store == store, 'Sales'].values.reshape(-1,1)\n",
    "    future_pred_window = len(test_actuals)\n",
    "    actual_predictions, test_actuals, rmse_error, rmspe_error = full_predict(model,future_pred_window, tw, test_actuals, test_sales, num_variables)\n",
    "    full_rmse_errors.append(rmse_error)\n",
    "    full_rmspe_errors.append(mape_error)\n",
    "print(\"Average RMSE error: {:.6}\".format(np.mean(full_rmse_errors)))\n",
    "print(\"Average RMSPE error: {:.6}\".format(np.mean(full_mape_errors)))"
   ]
  },
  {
   "cell_type": "markdown",
   "metadata": {},
   "source": [
    "### LSTM"
   ]
  },
  {
   "cell_type": "code",
   "execution_count": 61,
   "metadata": {},
   "outputs": [],
   "source": [
    "lstm_options = pkl.load( open( \"lstm_options.p\", \"rb\" ) )\n",
    "model = torch.load('best_lstm.pt')\n",
    "\n",
    "loss_function = nn.MSELoss()\n",
    "tw = lstm_options['best_tw']"
   ]
  },
  {
   "cell_type": "code",
   "execution_count": 67,
   "metadata": {},
   "outputs": [
    {
     "name": "stdout",
     "output_type": "stream",
     "text": [
      "Plotting Store 4\n",
      "Future prediction window: 35\n"
     ]
    }
   ],
   "source": [
    "stores = [1,2,3,4,5,13,15,18,21,85,259,262]\n",
    "store_to_plot = np.random.choice(stores,1)[0]\n",
    "print(\"Plotting Store {}\".format(store_to_plot))\n",
    "\n",
    "future_pred_window = len(full_val.loc[full_val.Store == store_to_plot, 'NormSales'])\n",
    "print(\"Future prediction window: {}\".format(future_pred_window))\n",
    "\n",
    "initial_test_sales = full_train.loc[full_train.Store == store_to_plot,'NormSales'].values[-tw:].reshape(-1,1)\n",
    "test_actuals = full_val.loc[full_val.Store == store_to_plot, 'NormSales'].values[:future_pred_window].reshape(-1,1)\n",
    "test_sales = np.append(initial_test_sales, test_actuals)\n",
    "test_actuals = full_val.loc[full_val.Store == store_to_plot, 'Sales'].values[:future_pred_window].reshape(-1,1)"
   ]
  },
  {
   "cell_type": "code",
   "execution_count": 68,
   "metadata": {},
   "outputs": [],
   "source": [
    "actual_predictions, check, rmse_error, rmspe_error = onestep_predict(model, future_pred_window, tw, test_actuals, test_sales, model_type = 'lstm')"
   ]
  },
  {
   "cell_type": "code",
   "execution_count": 69,
   "metadata": {},
   "outputs": [
    {
     "name": "stdout",
     "output_type": "stream",
     "text": [
      "RMSPE errror: 0.143024\n",
      "RMSE errror: 1460.68\n"
     ]
    },
    {
     "data": {
      "image/png": "[encoded data removed]",
      "text/plain": [
       "<Figure size 432x288 with 1 Axes>"
      ]
     },
     "metadata": {
      "needs_background": "light"
     },
     "output_type": "display_data"
    }
   ],
   "source": [
    "plt.plot(np.arange(len(actual_predictions)), actual_predictions)\n",
    "plt.plot(np.arange(len(actual_predictions)), check)\n",
    "print(\"RMSPE errror: {:.6}\".format(rmspe_error))\n",
    "print(\"RMSE errror: {:.6}\".format(rmse_error))"
   ]
  },
  {
   "cell_type": "code",
   "execution_count": 72,
   "metadata": {},
   "outputs": [],
   "source": [
    "test_sales = full_train.loc[full_train.Store == store_to_plot,'NormSales'].values[-tw:].reshape(-1,1)\n",
    "test_actuals = full_val.loc[full_val.Store == store_to_plot, 'Sales'].values[:future_pred_window].reshape(-1,1)\n",
    "actual_predictions, check, rmse_error, rmspe_error = full_predict(model, future_pred_window, tw, test_actuals, test_sales, num_variables, model_type='lstm')"
   ]
  },
  {
   "cell_type": "code",
   "execution_count": 73,
   "metadata": {},
   "outputs": [
    {
     "data": {
      "image/png": "[encoded data removed]",
      "text/plain": [
       "<Figure size 432x288 with 1 Axes>"
      ]
     },
     "metadata": {
      "needs_background": "light"
     },
     "output_type": "display_data"
    },
    {
     "name": "stdout",
     "output_type": "stream",
     "text": [
      "RMSPE errror: 0.233967\n",
      "RMSE errror: 2569.88\n"
     ]
    }
   ],
   "source": [
    "plt.plot(range(future_pred_window), actual_predictions, label = 'Preds')\n",
    "plt.plot(range(future_pred_window),check, label = 'Actuals')\n",
    "plt.legend()\n",
    "plt.show()\n",
    "print(\"RMSPE errror: {:.6}\".format(rmspe_error))\n",
    "print(\"RMSE errror: {:.6}\".format(rmse_error))"
   ]
  },
  {
   "cell_type": "code",
   "execution_count": 75,
   "metadata": {},
   "outputs": [
    {
     "name": "stdout",
     "output_type": "stream",
     "text": [
      "Average RMSE error: 3148.39\n",
      "Average MAPE error: 0.424464\n"
     ]
    }
   ],
   "source": [
    "full_rmse_errors = []\n",
    "full_rmspe_errors = []\n",
    "for store in stores:\n",
    "    test_sales = full_train.loc[full_train.Store == store,'NormSales'].values[-tw:].reshape(-1,1)\n",
    "\n",
    "    test_actuals = full_val.loc[full_val.Store == store, 'Sales'].values.reshape(-1,1)\n",
    "    future_pred_window = len(test_actuals)\n",
    "    actual_predictions, test_actuals, rmse_error, rmspe_error = full_predict(model,future_pred_window, tw, test_actuals, test_sales, num_variables)\n",
    "    full_rmse_errors.append(rmse_error)\n",
    "    full_rmspe_errors.append(rmspe_error)\n",
    "print(\"Average RMSE error: {:.6}\".format(np.mean(full_rmse_errors)))\n",
    "print(\"Average MAPE error: {:.6}\".format(np.mean(full_rmspe_errors)))"
   ]
  },
  {
   "cell_type": "markdown",
   "metadata": {},
   "source": [
    "## Single-store"
   ]
  },
  {
   "cell_type": "code",
   "execution_count": 76,
   "metadata": {},
   "outputs": [
    {
     "data": {
      "image/png": "[encoded data removed]",
      "text/plain": [
       "<Figure size 432x288 with 1 Axes>"
      ]
     },
     "metadata": {
      "needs_background": "light"
     },
     "output_type": "display_data"
    }
   ],
   "source": [
    "locator = mdates.MonthLocator()  # every month\n",
    "# Specify the format - %b gives us Jan, Feb...\n",
    "fmt = mdates.DateFormatter('%b')\n",
    "\n",
    "store_to_plot = 1\n",
    "fig, ax = plt.subplots()\n",
    "\n",
    "ax.plot(full_train.loc[full_train.Store == store_to_plot, 'Date'],full_train.loc[full_train.Store == store_to_plot,'Sales'])\n",
    "plt.tick_params(axis='both', which='major', labelsize=10)\n",
    "X = ax.xaxis\n",
    "X.set_major_locator(locator)\n",
    "# Specify formatter\n",
    "X.set_major_formatter(fmt)\n",
    "plt.show()"
   ]
  },
  {
   "cell_type": "code",
   "execution_count": 77,
   "metadata": {},
   "outputs": [],
   "source": [
    "differenced_data = []\n",
    "sorted_data = full_train.loc[full_train.Store == store_to_plot].sort_values(by='Date')\n",
    "for i in range(len(sorted_data)-1):\n",
    "    differenced_data.append(sorted_data.iloc[i+1].Sales - sorted_data.iloc[i].Sales)"
   ]
  },
  {
   "cell_type": "code",
   "execution_count": 78,
   "metadata": {},
   "outputs": [
    {
     "data": {
      "text/plain": [
       "[<matplotlib.lines.Line2D at 0x7fcc19730f60>]"
      ]
     },
     "execution_count": 78,
     "metadata": {},
     "output_type": "execute_result"
    },
    {
     "data": {
      "image/png": "[encoded data removed]",
      "text/plain": [
       "<Figure size 432x288 with 1 Axes>"
      ]
     },
     "metadata": {
      "needs_background": "light"
     },
     "output_type": "display_data"
    }
   ],
   "source": [
    "plt.plot(np.arange(len(differenced_data)), differenced_data)"
   ]
  },
  {
   "cell_type": "code",
   "execution_count": 79,
   "metadata": {},
   "outputs": [
    {
     "data": {
      "text/plain": [
       "940         NaN\n",
       "939   -0.031068\n",
       "938    0.004106\n",
       "937    0.013197\n",
       "935    0.056273\n",
       "934   -0.041217\n",
       "933   -0.002815\n",
       "932   -0.014953\n",
       "931   -0.000284\n",
       "930    0.001834\n",
       "928   -0.006069\n",
       "927   -0.021099\n",
       "926    0.002789\n",
       "925    0.000930\n",
       "924    0.002143\n",
       "923    0.027245\n",
       "921    0.005475\n",
       "920    0.008419\n",
       "919   -0.003667\n",
       "918   -0.009891\n",
       "917    0.010098\n",
       "916    0.000310\n",
       "914   -0.039848\n",
       "913   -0.008522\n",
       "912    0.022623\n",
       "911    0.002789\n",
       "910    0.023862\n",
       "909    0.008703\n",
       "907    0.027426\n",
       "906   -0.025386\n",
       "         ...   \n",
       "122   -0.013119\n",
       "121    0.015753\n",
       "120   -0.006250\n",
       "118    0.003486\n",
       "115   -0.065751\n",
       "114    0.000801\n",
       "113   -0.018775\n",
       "112    0.002118\n",
       "111    0.016115\n",
       "109    0.031093\n",
       "108   -0.018827\n",
       "107   -0.013894\n",
       "106    0.000155\n",
       "105    0.015547\n",
       "104   -0.003202\n",
       "102   -0.022519\n",
       "101   -0.017690\n",
       "100    0.007283\n",
       "99    -0.006276\n",
       "98     0.003151\n",
       "97     0.028924\n",
       "95     0.032462\n",
       "94    -0.009710\n",
       "93     0.014875\n",
       "92     0.011699\n",
       "90    -0.009762\n",
       "88    -0.006689\n",
       "87    -0.026522\n",
       "86     0.010227\n",
       "85    -0.011131\n",
       "Name: NormSales, Length: 711, dtype: float64"
      ]
     },
     "execution_count": 79,
     "metadata": {},
     "output_type": "execute_result"
    }
   ],
   "source": [
    "sorted_data.NormSales.diff()"
   ]
  },
  {
   "cell_type": "code",
   "execution_count": 80,
   "metadata": {},
   "outputs": [
    {
     "name": "stdout",
     "output_type": "stream",
     "text": [
      "Running model with training window size: 12\n",
      " learning rate: 0.0005\n",
      " hidden size: 32\n",
      " dropout: 0.1\n",
      "\n",
      "\n",
      "Training loss at iteration 200: 0.0029132\n",
      "Training loss at iteration 400: 0.0019239\n",
      "epoch:   0 loss: 0.00192392\n",
      "Training loss at iteration 200: 0.0017702\n",
      "Training loss at iteration 400: 0.0018687\n",
      "epoch:   1 loss: 0.00186875\n",
      "Training loss at iteration 200: 0.0011795\n",
      "Training loss at iteration 400: 0.0014942\n",
      "epoch:   2 loss: 0.00149418\n",
      "Training loss at iteration 200: 0.0013636\n",
      "Training loss at iteration 400: 0.0013099\n",
      "epoch:   3 loss: 0.00130990\n",
      "Training loss at iteration 200: 0.0013069\n",
      "Training loss at iteration 400: 0.0011662\n",
      "epoch:   4 loss: 0.00116616\n",
      "Training loss at iteration 200: 0.0013219\n",
      "Training loss at iteration 400: 0.0010204\n",
      "epoch:   5 loss: 0.00102037\n",
      "Training loss at iteration 200: 0.0010457\n",
      "Training loss at iteration 400: 0.0011416\n",
      "epoch:   6 loss: 0.00114161\n",
      "Training loss at iteration 200: 0.0014133\n",
      "Training loss at iteration 400: 0.0010547\n",
      "epoch:   7 loss: 0.00105472\n",
      "Training loss at iteration 200: 0.0011789\n",
      "Training loss at iteration 400: 0.0010453\n",
      "epoch:   8 loss: 0.00104530\n",
      "Training loss at iteration 200: 0.0012166\n",
      "Training loss at iteration 400: 0.0011159\n",
      "epoch:   9 loss: 0.00111587\n",
      "epoch:   9 loss: 0.0011158679\n",
      "======================The validation RMSE is : 1125.7\n"
     ]
    }
   ],
   "source": [
    "tw = 12\n",
    "learning_rate = 0.0005\n",
    "size = 32\n",
    "num_layers = 2\n",
    "dropout = 0.1\n",
    "num_epochs = 10\n",
    "train_steps = 4000\n",
    "train_inout_seq = []\n",
    "\n",
    "loss_function = nn.MSELoss()\n",
    "stores = [13]\n",
    "for store in stores:\n",
    "    this_store = full_train.loc[full_train.Store == store].sort_values(by='Date')\n",
    "    this_store_sales = this_store.NormSales.values.astype(float)\n",
    "    inout_seq = create_inout_sequences(this_store_sales,tw)\n",
    "    train_inout_seq += inout_seq\n",
    "\n",
    "val_inout_seq = []\n",
    "for store in stores:\n",
    "    this_store = full_val.loc[full_val.Store == store].sort_values(by='Date')\n",
    "    this_store_sales = this_store.NormSales.values.astype(float)\n",
    "    inout_seq = create_inout_sequences(this_store_sales,tw)\n",
    "    val_inout_seq += inout_seq\n",
    "\n",
    "batch_size = 1\n",
    "train_dataset = SeqDataset(train_inout_seq)\n",
    "train_data = DataLoader(train_dataset, batch_size=batch_size, shuffle=True, collate_fn=batchify, drop_last=False)\n",
    "\n",
    "val_dataset = SeqDataset(val_inout_seq)\n",
    "val_data = DataLoader(val_dataset, batch_size=batch_size, shuffle=False, collate_fn = batchify, drop_last=False)\n",
    "\n",
    "\n",
    "print(\"Running model with training window size: {}\\n learning rate: {}\\n hidden size: {}\\n dropout: {}\\n\\n\".format(tw,learning_rate, size, dropout))\n",
    "model = RNN(hidden_layers = num_layers, hidden_layer_size=size, dropout=dropout)\n",
    "model.to(current_device)\n",
    "model, avg_train_cache, avg_val_cache = train(model,train_data, val_data, learning_rate = learning_rate, epochs=num_epochs, train_steps = train_steps, model_type='lstm', scaler = scaler)\n",
    "\n",
    "avg_val = evaluate(model, val_data, loss_function, scaler, model_type='lstm')\n",
    "\n",
    "print(\"======================The validation RMSE is : {:.5}\".format(np.sqrt(avg_val)))\n"
   ]
  },
  {
   "cell_type": "code",
   "execution_count": 81,
   "metadata": {},
   "outputs": [],
   "source": [
    "store_to_plot = 13\n",
    "test_sales = full_train.loc[full_train.Store == store_to_plot,'NormSales'].values[-tw:].reshape(-1,1)\n",
    "test_actuals = full_val.loc[full_val.Store == store_to_plot, 'Sales'].values.reshape(-1,1)\n",
    "future_pred_window = len(test_actuals)\n",
    "actual_predictions, check, rmse_error, rmspe_error = full_predict(model, future_pred_window, tw, test_actuals, test_sales, num_variables, model_type='lstm')"
   ]
  },
  {
   "cell_type": "code",
   "execution_count": 82,
   "metadata": {},
   "outputs": [
    {
     "data": {
      "image/png": "[encoded data removed]",
      "text/plain": [
       "<Figure size 432x288 with 1 Axes>"
      ]
     },
     "metadata": {
      "needs_background": "light"
     },
     "output_type": "display_data"
    },
    {
     "name": "stdout",
     "output_type": "stream",
     "text": [
      "RMSE errror: 1235.57\n",
      "RMSPE errror: 0.237442\n"
     ]
    }
   ],
   "source": [
    "plt.plot(range(future_pred_window), actual_predictions, label = 'Preds')\n",
    "plt.plot(range(future_pred_window),check, label = 'Actuals')\n",
    "plt.legend()\n",
    "plt.show()\n",
    "print(\"RMSE errror: {:.6}\".format(rmse_error))\n",
    "print(\"RMSPE errror: {:.6}\".format(rmspe_error))"
   ]
  },
  {
   "cell_type": "code",
   "execution_count": 83,
   "metadata": {},
   "outputs": [
    {
     "name": "stdout",
     "output_type": "stream",
     "text": [
      "Future prediction window: 34\n"
     ]
    }
   ],
   "source": [
    "future_pred_window = len(full_val.loc[full_val.Store == store_to_plot, 'NormSales'])\n",
    "print(\"Future prediction window: {}\".format(future_pred_window))\n",
    "\n",
    "initial_test_sales = full_train.loc[full_train.Store == store_to_plot,'NormSales'].values[-tw:].reshape(-1,1)\n",
    "test_actuals = full_val.loc[full_val.Store == store_to_plot, 'NormSales'].values[:future_pred_window].reshape(-1,1)\n",
    "test_sales = np.append(initial_test_sales, test_actuals)\n",
    "test_actuals = full_val.loc[full_val.Store == store_to_plot, 'Sales'].values[:future_pred_window].reshape(-1,1)"
   ]
  },
  {
   "cell_type": "code",
   "execution_count": 84,
   "metadata": {},
   "outputs": [],
   "source": [
    "actual_predictions, check, rmse_error, rmspe_error = onestep_predict(model, future_pred_window, tw, test_actuals, test_sales, model_type = 'lstm')"
   ]
  },
  {
   "cell_type": "code",
   "execution_count": 85,
   "metadata": {},
   "outputs": [
    {
     "data": {
      "image/png": "[encoded data removed]",
      "text/plain": [
       "<Figure size 432x288 with 1 Axes>"
      ]
     },
     "metadata": {
      "needs_background": "light"
     },
     "output_type": "display_data"
    },
    {
     "name": "stdout",
     "output_type": "stream",
     "text": [
      "RMSE errror: 1102.28\n",
      "RMSPE errror: 0.221826\n"
     ]
    }
   ],
   "source": [
    "plt.plot(range(future_pred_window), actual_predictions, label = 'Preds')\n",
    "plt.plot(range(future_pred_window),check, label = 'Actuals')\n",
    "plt.legend()\n",
    "plt.show()\n",
    "print(\"RMSE errror: {:.6}\".format(rmse_error))\n",
    "print(\"RMSPE errror: {:.6}\".format(rmspe_error))"
   ]
  },
  {
   "cell_type": "markdown",
   "metadata": {},
   "source": [
    "## Store subset"
   ]
  },
  {
   "cell_type": "code",
   "execution_count": 87,
   "metadata": {},
   "outputs": [
    {
     "name": "stdout",
     "output_type": "stream",
     "text": [
      "Loading train data\n",
      "Loading val data\n",
      "Running model with training window size: 12\n",
      " learning rate: 0.0005\n",
      " hidden size: 32\n",
      " dropout: 0.1\n",
      "\n",
      "\n",
      "Training loss at iteration 600: 0.00099506\n",
      "epoch:   0 loss: 0.00099506\n",
      "Training loss at iteration 600: 0.00069356\n",
      "epoch:   1 loss: 0.00069356\n",
      "Training loss at iteration 600: 0.00056823\n",
      "epoch:   2 loss: 0.00056823\n",
      "Training loss at iteration 600: 0.00051506\n",
      "epoch:   3 loss: 0.00051506\n",
      "Training loss at iteration 600: 0.0005129\n",
      "epoch:   4 loss: 0.00051290\n",
      "Training loss at iteration 600: 0.00045701\n",
      "epoch:   5 loss: 0.00045701\n",
      "Training loss at iteration 600: 0.00048419\n",
      "epoch:   6 loss: 0.00048419\n",
      "Training loss at iteration 600: 0.00045685\n",
      "epoch:   7 loss: 0.00045685\n",
      "Training loss at iteration 600: 0.00043051\n",
      "epoch:   8 loss: 0.00043051\n",
      "Training loss at iteration 600: 0.00045447\n",
      "epoch:   9 loss: 0.00045447\n",
      "epoch:   9 loss: 0.0004544658\n",
      "Loading train data\n",
      "Loading val data\n",
      "Running model with training window size: 12\n",
      " learning rate: 0.0005\n",
      " hidden size: 32\n",
      " dropout: 0.1\n",
      "\n",
      "\n",
      "Training loss at iteration 600: 0.0021199\n",
      "epoch:   0 loss: 0.00211986\n",
      "Training loss at iteration 600: 0.001862\n",
      "epoch:   1 loss: 0.00186201\n",
      "Training loss at iteration 600: 0.0016686\n",
      "epoch:   2 loss: 0.00166858\n",
      "Training loss at iteration 600: 0.0016043\n",
      "epoch:   3 loss: 0.00160429\n",
      "Training loss at iteration 600: 0.0015529\n",
      "epoch:   4 loss: 0.00155288\n",
      "Training loss at iteration 600: 0.0015522\n",
      "epoch:   5 loss: 0.00155219\n",
      "Training loss at iteration 600: 0.0014636\n",
      "epoch:   6 loss: 0.00146362\n",
      "Training loss at iteration 600: 0.0014555\n",
      "epoch:   7 loss: 0.00145552\n",
      "Training loss at iteration 600: 0.001274\n",
      "epoch:   8 loss: 0.00127405\n",
      "Training loss at iteration 600: 0.0013688\n",
      "epoch:   9 loss: 0.00136885\n",
      "epoch:   9 loss: 0.0013688468\n",
      "Loading train data\n",
      "Loading val data\n",
      "Running model with training window size: 12\n",
      " learning rate: 0.0005\n",
      " hidden size: 32\n",
      " dropout: 0.1\n",
      "\n",
      "\n",
      "Training loss at iteration 600: 0.0037517\n",
      "epoch:   0 loss: 0.00375170\n",
      "Training loss at iteration 600: 0.0030129\n",
      "epoch:   1 loss: 0.00301287\n",
      "Training loss at iteration 600: 0.0029277\n",
      "epoch:   2 loss: 0.00292768\n",
      "Training loss at iteration 600: 0.0026552\n",
      "epoch:   3 loss: 0.00265523\n",
      "Training loss at iteration 600: 0.0026248\n",
      "epoch:   4 loss: 0.00262482\n",
      "Training loss at iteration 600: 0.0025014\n",
      "epoch:   5 loss: 0.00250140\n",
      "Training loss at iteration 600: 0.0026803\n",
      "epoch:   6 loss: 0.00268029\n",
      "Training loss at iteration 600: 0.0024024\n",
      "epoch:   7 loss: 0.00240241\n",
      "Training loss at iteration 600: 0.0025004\n",
      "epoch:   8 loss: 0.00250044\n",
      "Training loss at iteration 600: 0.0023025\n",
      "epoch:   9 loss: 0.00230248\n",
      "epoch:   9 loss: 0.0023024783\n",
      "Loading train data\n",
      "Loading val data\n",
      "Running model with training window size: 12\n",
      " learning rate: 0.0005\n",
      " hidden size: 32\n",
      " dropout: 0.1\n",
      "\n",
      "\n",
      "Training loss at iteration 600: 0.0040441\n",
      "epoch:   0 loss: 0.00404406\n",
      "Training loss at iteration 600: 0.0026244\n",
      "epoch:   1 loss: 0.00262439\n",
      "Training loss at iteration 600: 0.001986\n",
      "epoch:   2 loss: 0.00198596\n",
      "Training loss at iteration 600: 0.0019275\n",
      "epoch:   3 loss: 0.00192747\n",
      "Training loss at iteration 600: 0.001862\n",
      "epoch:   4 loss: 0.00186203\n",
      "Training loss at iteration 600: 0.0019156\n",
      "epoch:   5 loss: 0.00191562\n",
      "Training loss at iteration 600: 0.0018326\n",
      "epoch:   6 loss: 0.00183263\n",
      "Training loss at iteration 600: 0.0019214\n",
      "epoch:   7 loss: 0.00192139\n",
      "Training loss at iteration 600: 0.0018509\n",
      "epoch:   8 loss: 0.00185095\n",
      "Training loss at iteration 600: 0.0017518\n",
      "epoch:   9 loss: 0.00175178\n",
      "epoch:   9 loss: 0.0017517841\n",
      "Loading train data\n",
      "Loading val data\n",
      "Running model with training window size: 12\n",
      " learning rate: 0.0005\n",
      " hidden size: 32\n",
      " dropout: 0.1\n",
      "\n",
      "\n",
      "Training loss at iteration 600: 0.0045188\n",
      "epoch:   0 loss: 0.00451882\n",
      "Training loss at iteration 600: 0.0024713\n",
      "epoch:   1 loss: 0.00247126\n",
      "Training loss at iteration 600: 0.0024726\n",
      "epoch:   2 loss: 0.00247255\n",
      "Training loss at iteration 600: 0.0022653\n",
      "epoch:   3 loss: 0.00226534\n",
      "Training loss at iteration 600: 0.0020371\n",
      "epoch:   4 loss: 0.00203709\n",
      "Training loss at iteration 600: 0.0018699\n",
      "epoch:   5 loss: 0.00186992\n",
      "Training loss at iteration 600: 0.0018107\n",
      "epoch:   6 loss: 0.00181071\n",
      "Training loss at iteration 600: 0.0018908\n",
      "epoch:   7 loss: 0.00189080\n",
      "Training loss at iteration 600: 0.00179\n",
      "epoch:   8 loss: 0.00179001\n",
      "Training loss at iteration 600: 0.0017797\n",
      "epoch:   9 loss: 0.00177968\n",
      "epoch:   9 loss: 0.0017796774\n",
      "Loading train data\n",
      "Loading val data\n",
      "Running model with training window size: 12\n",
      " learning rate: 0.0005\n",
      " hidden size: 32\n",
      " dropout: 0.1\n",
      "\n",
      "\n",
      "Loading train data\n",
      "Loading val data\n",
      "Running model with training window size: 12\n",
      " learning rate: 0.0005\n",
      " hidden size: 32\n",
      " dropout: 0.1\n",
      "\n",
      "\n",
      "Training loss at iteration 600: 0.0028343\n",
      "epoch:   0 loss: 0.00283434\n",
      "Training loss at iteration 600: 0.0018612\n",
      "epoch:   1 loss: 0.00186119\n",
      "Training loss at iteration 600: 0.0016112\n",
      "epoch:   2 loss: 0.00161116\n",
      "Training loss at iteration 600: 0.0014899\n",
      "epoch:   3 loss: 0.00148989\n",
      "Training loss at iteration 600: 0.0013747\n",
      "epoch:   4 loss: 0.00137472\n",
      "Training loss at iteration 600: 0.0013572\n",
      "epoch:   5 loss: 0.00135718\n",
      "Training loss at iteration 600: 0.0014163\n",
      "epoch:   6 loss: 0.00141633\n",
      "Training loss at iteration 600: 0.0013284\n",
      "epoch:   7 loss: 0.00132839\n",
      "Training loss at iteration 600: 0.0013548\n",
      "epoch:   8 loss: 0.00135481\n",
      "Training loss at iteration 600: 0.0013313\n",
      "epoch:   9 loss: 0.00133132\n",
      "epoch:   9 loss: 0.0013313240\n",
      "Loading train data\n",
      "Loading val data\n",
      "Running model with training window size: 12\n",
      " learning rate: 0.0005\n",
      " hidden size: 32\n",
      " dropout: 0.1\n",
      "\n",
      "\n",
      "Training loss at iteration 600: 0.0026657\n",
      "epoch:   0 loss: 0.00266572\n",
      "Training loss at iteration 600: 0.0020096\n",
      "epoch:   1 loss: 0.00200963\n",
      "Training loss at iteration 600: 0.0019173\n",
      "epoch:   2 loss: 0.00191731\n",
      "Training loss at iteration 600: 0.0017465\n",
      "epoch:   3 loss: 0.00174652\n",
      "Training loss at iteration 600: 0.0017369\n",
      "epoch:   4 loss: 0.00173689\n",
      "Training loss at iteration 600: 0.0016158\n",
      "epoch:   5 loss: 0.00161580\n",
      "Training loss at iteration 600: 0.0017488\n",
      "epoch:   6 loss: 0.00174881\n",
      "Training loss at iteration 600: 0.0015357\n",
      "epoch:   7 loss: 0.00153566\n",
      "Training loss at iteration 600: 0.0016983\n",
      "epoch:   8 loss: 0.00169834\n",
      "Training loss at iteration 600: 0.0016871\n",
      "epoch:   9 loss: 0.00168710\n",
      "epoch:   9 loss: 0.0016871006\n",
      "Loading train data\n",
      "Loading val data\n",
      "Running model with training window size: 12\n",
      " learning rate: 0.0005\n",
      " hidden size: 32\n",
      " dropout: 0.1\n",
      "\n",
      "\n",
      "Training loss at iteration 600: 0.0029331\n",
      "epoch:   0 loss: 0.00293313\n",
      "Training loss at iteration 600: 0.0020427\n",
      "epoch:   1 loss: 0.00204274\n",
      "Training loss at iteration 600: 0.001566\n",
      "epoch:   2 loss: 0.00156600\n",
      "Training loss at iteration 600: 0.0015633\n",
      "epoch:   3 loss: 0.00156326\n",
      "Training loss at iteration 600: 0.0014015\n",
      "epoch:   4 loss: 0.00140154\n",
      "Training loss at iteration 600: 0.0014634\n",
      "epoch:   5 loss: 0.00146337\n",
      "Training loss at iteration 600: 0.0014703\n",
      "epoch:   6 loss: 0.00147031\n",
      "Training loss at iteration 600: 0.001396\n",
      "epoch:   7 loss: 0.00139604\n",
      "Training loss at iteration 600: 0.0013832\n",
      "epoch:   8 loss: 0.00138325\n",
      "Training loss at iteration 600: 0.0014472\n",
      "epoch:   9 loss: 0.00144721\n",
      "epoch:   9 loss: 0.0014472075\n",
      "Loading train data\n",
      "Loading val data\n",
      "Running model with training window size: 12\n",
      " learning rate: 0.0005\n",
      " hidden size: 32\n",
      " dropout: 0.1\n",
      "\n",
      "\n",
      "Training loss at iteration 600: 0.0042583\n",
      "epoch:   0 loss: 0.00425830\n",
      "Training loss at iteration 600: 0.0030728\n",
      "epoch:   1 loss: 0.00307284\n",
      "Training loss at iteration 600: 0.0023123\n",
      "epoch:   2 loss: 0.00231227\n",
      "Training loss at iteration 600: 0.0024346\n",
      "epoch:   3 loss: 0.00243458\n",
      "Training loss at iteration 600: 0.002329\n",
      "epoch:   4 loss: 0.00232901\n",
      "Training loss at iteration 600: 0.0023841\n",
      "epoch:   5 loss: 0.00238405\n",
      "Training loss at iteration 600: 0.0022119\n",
      "epoch:   6 loss: 0.00221193\n",
      "Training loss at iteration 600: 0.0022268\n",
      "epoch:   7 loss: 0.00222681\n",
      "Training loss at iteration 600: 0.0022099\n",
      "epoch:   8 loss: 0.00220995\n",
      "Training loss at iteration 600: 0.0022687\n",
      "epoch:   9 loss: 0.00226874\n",
      "epoch:   9 loss: 0.0022687439\n",
      "Loading train data\n",
      "Loading val data\n",
      "Running model with training window size: 12\n",
      " learning rate: 0.0005\n",
      " hidden size: 32\n",
      " dropout: 0.1\n",
      "\n",
      "\n",
      "Training loss at iteration 600: 0.0062794\n",
      "epoch:   0 loss: 0.00627942\n",
      "Training loss at iteration 600: 0.0039487\n",
      "epoch:   1 loss: 0.00394865\n",
      "Training loss at iteration 600: 0.0030276\n",
      "epoch:   2 loss: 0.00302756\n",
      "Training loss at iteration 600: 0.002472\n",
      "epoch:   3 loss: 0.00247204\n",
      "Training loss at iteration 600: 0.0025562\n",
      "epoch:   4 loss: 0.00255623\n",
      "Training loss at iteration 600: 0.0023096\n",
      "epoch:   5 loss: 0.00230962\n",
      "Training loss at iteration 600: 0.0023265\n",
      "epoch:   6 loss: 0.00232647\n",
      "Training loss at iteration 600: 0.0022125\n",
      "epoch:   7 loss: 0.00221249\n",
      "Training loss at iteration 600: 0.0020852\n",
      "epoch:   8 loss: 0.00208522\n",
      "Training loss at iteration 600: 0.0022833\n",
      "epoch:   9 loss: 0.00228325\n",
      "epoch:   9 loss: 0.0022832509\n",
      "Loading train data\n",
      "Loading val data\n",
      "Running model with training window size: 12\n",
      " learning rate: 0.0005\n",
      " hidden size: 32\n",
      " dropout: 0.1\n",
      "\n",
      "\n",
      "Training loss at iteration 600: 0.02103\n",
      "epoch:   0 loss: 0.02103014\n",
      "Training loss at iteration 600: 0.012602\n",
      "epoch:   1 loss: 0.01260197\n",
      "Training loss at iteration 600: 0.01053\n",
      "epoch:   2 loss: 0.01053012\n",
      "Training loss at iteration 600: 0.0095546\n",
      "epoch:   3 loss: 0.00955458\n",
      "Training loss at iteration 600: 0.0093412\n",
      "epoch:   4 loss: 0.00934116\n",
      "Training loss at iteration 600: 0.009755\n",
      "epoch:   5 loss: 0.00975499\n",
      "Training loss at iteration 600: 0.0093579\n",
      "epoch:   6 loss: 0.00935793\n",
      "Training loss at iteration 600: 0.0088759\n",
      "epoch:   7 loss: 0.00887586\n",
      "Training loss at iteration 600: 0.0093003\n",
      "epoch:   8 loss: 0.00930027\n",
      "Training loss at iteration 600: 0.0089634\n",
      "epoch:   9 loss: 0.00896335\n",
      "epoch:   9 loss: 0.0089633501\n",
      "Mean RMSE: 1914.026686\n",
      "Mean RMSPE: 0.255928\n"
     ]
    }
   ],
   "source": [
    "stores = [1,2,3,4,5,13,15,18,21,85,259,262]\n",
    "tw = 12\n",
    "norm_columns = ['NormSales']\n",
    "num_variables = 1\n",
    "learning_rate = 0.0005\n",
    "num_layers = 2\n",
    "size = 32\n",
    "num_epochs = 10\n",
    "val_steps = 1000\n",
    "train_log_steps = 600\n",
    "full_rmse_error = []\n",
    "full_rmspe_error = []\n",
    "for the_store in stores:\n",
    "    these_stores = [the_store]\n",
    "    print(\"Loading train data\")\n",
    "    train_inout_seq = []\n",
    "    for store in these_stores:\n",
    "        this_store = full_train.loc[full_train.Store == store].sort_values(by='Date')\n",
    "        this_store_sales = this_store[norm_columns].values.astype(float)\n",
    "        inout_seq = create_inout_sequences(this_store_sales,tw)\n",
    "        train_inout_seq += inout_seq\n",
    "\n",
    "    print(\"Loading val data\")\n",
    "    val_inout_seq = []\n",
    "    for store in these_stores:\n",
    "        this_store = full_val.loc[full_val.Store == store].sort_values(by='Date')\n",
    "        this_store_sales = this_store[norm_columns].values.astype(float)\n",
    "        inout_seq = create_inout_sequences(this_store_sales,tw)\n",
    "        val_inout_seq += inout_seq\n",
    "\n",
    "    batch_size = 1\n",
    "    train_dataset = SeqDataset(train_inout_seq)\n",
    "    train_data = DataLoader(train_dataset, batch_size=batch_size, shuffle=True, collate_fn=lambda b: batchify(b,num_variables), drop_last=False)\n",
    "\n",
    "    val_dataset = SeqDataset(val_inout_seq)\n",
    "    val_data = DataLoader(val_dataset, batch_size=batch_size, shuffle=False, collate_fn = lambda b: batchify(b,num_variables), drop_last=False)\n",
    "\n",
    "    print(\"Running model with training window size: {}\\n learning rate: {}\\n hidden size: {}\\n dropout: {}\\n\\n\".format(tw,learning_rate, size, dropout))\n",
    "    model = RNN(input_size = num_variables, hidden_layers = num_layers, hidden_layer_size=size, dropout=dropout, output_size = 1)\n",
    "    model.to(current_device)\n",
    "    model, avg_train_cache, avg_val_cache = train(model,train_data, val_data, learning_rate = learning_rate, epochs=num_epochs, train_log_steps = train_log_steps, val_log_steps = val_steps, train_steps = 4000, model_type='lstm', scaler = None)\n",
    "\n",
    "    avg_val = evaluate(model, val_data, loss_function, scaler, model_type='lstm')\n",
    "    initial_test_sales = full_val.loc[full_val.Store == the_store,'NormSales'].values[-tw:].reshape(-1,1)\n",
    "    test_sales = initial_test_sales.reshape(-1,1)\n",
    "\n",
    "    test_otherinputs = None\n",
    "    test_actuals = full_test.loc[full_test.Store == the_store, 'Sales'].values.reshape(-1,1)\n",
    "    future_pred_window = len(test_actuals)\n",
    "    actual_predictions, check, rmse_error, rmspe_error = full_predict(model,future_pred_window, tw, test_actuals, test_sales, test_otherinputs = test_otherinputs, num_variables=num_variables)\n",
    "    full_rmse_error.append(rmse_error)\n",
    "    full_rmspe_error.append(rmspe_error)\n",
    "    \n",
    "print(\"Mean RMSE: {:.6f}\".format(np.mean(full_rmse_error)))\n",
    "print(\"Mean RMSPE: {:.6f}\".format(np.mean(full_rmspe_error)))"
   ]
  },
  {
   "cell_type": "code",
   "execution_count": null,
   "metadata": {},
   "outputs": [],
   "source": []
  }
 ],
 "metadata": {
  "kernelspec": {
   "display_name": "Python 3",
   "language": "python",
   "name": "python3"
  },
  "language_info": {
   "codemirror_mode": {
    "name": "ipython",
    "version": 3
   },
   "file_extension": ".py",
   "mimetype": "text/x-python",
   "name": "python",
   "nbconvert_exporter": "python",
   "pygments_lexer": "ipython3",
   "version": "3.6.7"
  }
 },
 "nbformat": 4,
 "nbformat_minor": 4
}
